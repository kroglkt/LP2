{
 "cells": [
  {
   "cell_type": "markdown",
   "metadata": {},
   "source": [
    "# Classification notebook\n",
    "### No feature extraction here - will load from pickle file"
   ]
  },
  {
   "cell_type": "code",
   "execution_count": 1,
   "metadata": {},
   "outputs": [],
   "source": [
    "import pickle\n",
    "import numpy as np\n",
    "import pandas as pd\n",
    "import json\n",
    "import random\n",
    "from tqdm import tqdm\n",
    "import matplotlib.pyplot as plt\n",
    "plt.style.use('seaborn')\n",
    "\n",
    "from sklearn.model_selection import StratifiedKFold\n",
    "from sklearn.ensemble import RandomForestClassifier\n",
    "from sklearn.model_selection import RandomizedSearchCV\n",
    "from sklearn.model_selection import train_test_split\n",
    "from sklearn.neural_network import MLPClassifier\n",
    "from sklearn.linear_model import LogisticRegression\n",
    "import xgboost\n",
    "from sklearn import svm\n",
    "from sklearn.naive_bayes import GaussianNB\n",
    "from sklearn.dummy import DummyClassifier\n",
    "\n",
    "from sklearn.metrics import accuracy_score, f1_score, roc_curve"
   ]
  },
  {
   "cell_type": "code",
   "execution_count": 2,
   "metadata": {},
   "outputs": [],
   "source": [
    "def rand_emot():\n",
    "    e = [\"(o_o)\",\":-)\",\":P\",\":D\",\"x)\",\"ᓚᘏᗢ\",\"╯°□°）╯︵ ┻━┻\",\":)\",\n",
    "         \"*<:-)\",\"^_^\",\"(⌐■_■)\",\"¯\\_(ツ)_/¯\", \"(T_T)\",\":o\",\"OwO\",\n",
    "        \"( ͡❛ ͜ʖ ͡❛)\",\"(̶◉͛‿◉̶)\",\"( ≖.≖)\",\"(ㆆ_ㆆ)\",\"ʕ•́ᴥ•̀ʔっ\",\"( ◡́.◡̀)\",\"(^◡^ )\"]\n",
    "    return random.choice(e)\n",
    "\n",
    "def load_files():\n",
    "    text_pairs = [] #Would be nice to have as np.array\n",
    "    labels = []\n",
    "    fandom = []\n",
    "    \n",
    "    pair_id = []\n",
    "    true_id = []\n",
    "    \n",
    "    #Load truth JSON\n",
    "    for line in open('data/modified/train_truth.jsonl'):\n",
    "        d = json.loads(line.strip())\n",
    "        labels.append(int(d['same']))\n",
    "        true_id.append(d['id'])\n",
    "\n",
    "    #Load actual fanfic.\n",
    "    print(\"loading fanfic...\",rand_emot())\n",
    "    for line in tqdm(open('data/modified/train_pair.jsonl')):\n",
    "        d = json.loads(line.strip())\n",
    "        text_pairs.append(d['pair'])\n",
    "        fandom.append(d['fandoms'])\n",
    "        pair_id.append(d['id'])\n",
    "\n",
    "    print(\"done loading\",rand_emot())\n",
    "    \n",
    "    return text_pairs, labels, fandom, pair_id, true_id"
   ]
  },
  {
   "cell_type": "code",
   "execution_count": 5,
   "metadata": {},
   "outputs": [
    {
     "name": "stderr",
     "output_type": "stream",
     "text": [
      "284it [00:00, 2818.39it/s]"
     ]
    },
    {
     "name": "stdout",
     "output_type": "stream",
     "text": [
      "loading fanfic... ╯°□°）╯︵ ┻━┻\n"
     ]
    },
    {
     "name": "stderr",
     "output_type": "stream",
     "text": [
      "1578it [00:00, 2692.29it/s]"
     ]
    },
    {
     "name": "stdout",
     "output_type": "stream",
     "text": [
      "done loading (ㆆ_ㆆ)\n"
     ]
    },
    {
     "name": "stderr",
     "output_type": "stream",
     "text": [
      "\n"
     ]
    },
    {
     "data": {
      "text/plain": [
       "1"
      ]
     },
     "execution_count": 5,
     "metadata": {},
     "output_type": "execute_result"
    }
   ],
   "source": [
    "_, labels, _, _, _ = load_files()    #11550\n",
    "labels.pop(713)\n",
    "\n",
    "egg"
   ]
  },
  {
   "cell_type": "code",
   "execution_count": 6,
   "metadata": {},
   "outputs": [],
   "source": [
    "def save_features(feature_dict, filename='features'):\n",
    "    '''Save the updated feature dictionary. Takes dictionary as input and saves as binary file\n",
    "    \n",
    "    example: \n",
    "    >>> my_featues = {'freqdist': [1,6,3,5]}\n",
    "    >>> save_features(my_features)'''\n",
    "    \n",
    "    with open('data/{}.dat'.format(filename), 'wb') as file:\n",
    "        pickle.dump(feature_dict, file)\n",
    "    print(\"Features saved! :-)\")\n",
    "\n",
    "def load_features(filename='features'):\n",
    "    '''Load feature dictionary. Returns the saved feature as a dictionary.\n",
    "    \n",
    "    example: \n",
    "    >>> my_features = load_features()'''\n",
    "    \n",
    "    with open('data/{}.dat'.format(filename), 'rb') as file:\n",
    "        feats = pickle.load(file)\n",
    "    print(\"Features available:\")\n",
    "    for i in feats.keys():\n",
    "        print(i)\n",
    "    return feats"
   ]
  },
  {
   "cell_type": "code",
   "execution_count": 7,
   "metadata": {},
   "outputs": [
    {
     "name": "stdout",
     "output_type": "stream",
     "text": [
      "Features available:\n",
      "character_bigram\n",
      "skip_bigram\n",
      "pos_skipgram\n",
      "pos_bigram\n",
      "character_bigram_cossim\n",
      "skip_bigram_cossim\n",
      "pos_skipgram_cossim\n",
      "pos_bigram_cossim\n",
      "function_word_dist\n",
      "profanity_dist\n",
      "unique_words\n",
      "punctuation_proportion\n",
      "avg_word_length\n",
      "avg_sent_length\n",
      "yules\n",
      "lix\n"
     ]
    }
   ],
   "source": [
    "feats = load_features(filename=\"features_0706\")"
   ]
  },
  {
   "cell_type": "code",
   "execution_count": 8,
   "metadata": {},
   "outputs": [
    {
     "name": "stdout",
     "output_type": "stream",
     "text": [
      "character_bigram \t (1577, 6000)\n",
      "skip_bigram \t (1577, 8000)\n",
      "pos_skipgram \t (1577, 2208)\n",
      "pos_bigram \t (1577, 6000)\n",
      "character_bigram_cossim \t (1577, 1)\n",
      "skip_bigram_cossim \t (1577, 1)\n",
      "pos_skipgram_cossim \t (1577, 1)\n",
      "pos_bigram_cossim \t (1577, 1)\n",
      "function_word_dist \t (1577, 1)\n",
      "profanity_dist \t (1577, 1)\n",
      "unique_words \t (1577, 1)\n",
      "punctuation_proportion \t (1577, 1)\n",
      "avg_word_length \t (1577, 1)\n",
      "avg_sent_length \t (1577, 1)\n",
      "yules \t (1577, 1)\n",
      "lix \t (1577, 1)\n"
     ]
    }
   ],
   "source": [
    "for i in feats:\n",
    "    if len(feats[i].shape)==1:\n",
    "        feats[i] = feats[i][:,None]\n",
    "    print(i, \"\\t\", feats[i].shape)\n"
   ]
  },
  {
   "cell_type": "markdown",
   "metadata": {},
   "source": [
    "## Stratified K-Fold"
   ]
  },
  {
   "cell_type": "code",
   "execution_count": 20,
   "metadata": {},
   "outputs": [],
   "source": [
    "def strat_kfold(model, X, k):\n",
    "    y = np.array(labels)\n",
    "    targets = []\n",
    "    preds = []\n",
    "    preds_proba = []\n",
    "    skf = StratifiedKFold(n_splits=k, shuffle=True, random_state=69)\n",
    "    for train_index, test_index in skf.split(X, y):\n",
    "        X_train, X_test = X[train_index], X[test_index]\n",
    "        y_train, y_test = y[train_index], y[test_index]\n",
    "        model.fit(X_train, y_train)\n",
    "        preds.append(model.predict(X_test))\n",
    "        preds_proba.append(model.predict_proba(X_test))\n",
    "        targets.append(y_test)\n",
    "    \n",
    "    return np.array([item for elem in preds for item in elem]), np.array([item for elem in targets for item in elem]), np.array([item for elem in preds_proba for item in elem])\n",
    "\n",
    "def combine_features(features):\n",
    "    #List of features as input\n",
    "    return np.hstack((features))"
   ]
  },
  {
   "cell_type": "code",
   "execution_count": 14,
   "metadata": {},
   "outputs": [
    {
     "name": "stdout",
     "output_type": "stream",
     "text": [
      "All features: (1577, 22220)\n",
      "Scalar features: (1577, 12)\n",
      "Forced scalar features: (1577, 16)\n",
      "Vector features: (1577, 16208)\n",
      "Final features: (1577, 12)\n"
     ]
    }
   ],
   "source": [
    "#Stratified 2-Fold accuracy on ALL Features\n",
    "all_features = combine_features([feats[x] for x in feats])\n",
    "scalar_features = combine_features([feats[x] for x in feats if feats[x].shape[1]==1])\n",
    "forced_scalars = []\n",
    "for i in feats:\n",
    "    if feats[i].shape[1] >1:\n",
    "        forced_scalars.append(np.mean(feats[i], axis=1)[:,None])\n",
    "    else:\n",
    "        forced_scalars.append(feats[i])\n",
    "\n",
    "forced_scalars = combine_features(forced_scalars)\n",
    "vector_features = combine_features([feats['character_bigram'],\n",
    "                                  feats['skip_bigram'],\n",
    "                                  feats['pos_skipgram']])\n",
    "\n",
    "final_features = combine_features([feats['function_word_dist'],\n",
    "                                 feats['profanity_dist'],\n",
    "                                 feats['avg_sent_length'],\n",
    "                                 feats['avg_word_length'],\n",
    "                                 feats['lix'],\n",
    "                                 feats['yules'],\n",
    "                                 feats['unique_words'],\n",
    "                                 feats['punctuation_proportion'],\n",
    "                                 feats['character_bigram_cossim'],\n",
    "                                 feats['skip_bigram_cossim'],\n",
    "                                 feats['pos_skipgram_cossim'],\n",
    "                                 feats['pos_bigram_cossim']])\n",
    "\n",
    "print(\"All features:\",all_features.shape)\n",
    "print(\"Scalar features:\", scalar_features.shape)\n",
    "print(\"Forced scalar features:\", forced_scalars.shape)\n",
    "print(\"Vector features:\", vector_features.shape)\n",
    "print(\"Final features:\", final_features.shape)"
   ]
  },
  {
   "cell_type": "code",
   "execution_count": 15,
   "metadata": {},
   "outputs": [],
   "source": [
    "def try_different_feats(model):\n",
    "    all_preds, all_targs, all_pred_proba = strat_kfold(model, all_features, 5)\n",
    "    vec_preds, vec_targs, vec_pred_proba = strat_kfold(model, vector_features, 5)\n",
    "    fin_preds, fin_targs, fin_pred_proba = strat_kfold(model, final_features, 5)\n",
    "    \n",
    "    print(\"All features: F1={}\\tAcc={}\".format(f1_score(all_targs, all_preds), accuracy_score(all_targs, all_preds)))\n",
    "    print(\"Vector features: F1={}\\tAcc={}\".format(f1_score(vec_targs, vec_preds), accuracy_score(vec_targs, vec_preds)))\n",
    "    print(\"Final features: F1={}\\tAcc={}\".format(f1_score(fin_targs, fin_preds), accuracy_score(fin_targs, fin_preds)))\n",
    "    \n",
    "    return [(all_pred_proba, all_targs), (vec_pred_proba, vec_targs), (fin_pred_proba, fin_targs)]"
   ]
  },
  {
   "cell_type": "markdown",
   "metadata": {},
   "source": [
    "## Random Forest"
   ]
  },
  {
   "cell_type": "code",
   "execution_count": 21,
   "metadata": {},
   "outputs": [
    {
     "name": "stdout",
     "output_type": "stream",
     "text": [
      "All features: F1=0.7689008042895442\tAcc=0.7266962587190868\n",
      "Vector features: F1=0.7033609352167559\tAcc=0.6138237159162968\n",
      "Final features: F1=0.7936313533374159\tAcc=0.7863031071655041\n"
     ]
    }
   ],
   "source": [
    "rfc = RandomForestClassifier(n_estimators=500, random_state=42, n_jobs=4)\n",
    "rfc_results = try_different_feats(rfc)"
   ]
  },
  {
   "cell_type": "code",
   "execution_count": 22,
   "metadata": {},
   "outputs": [],
   "source": [
    "#Stratified 5-Fold on the 8k best Random Forest Features\n",
    "#rfc_8k_feats = all_features[:,rfc.feature_importances_.argsort()[-8000:][::-1]]\n",
    "#strat_kfold(rfc, rfc_8k_feats, 5)"
   ]
  },
  {
   "cell_type": "code",
   "execution_count": 23,
   "metadata": {},
   "outputs": [
    {
     "data": {
      "text/plain": [
       "0.7746835443037975"
      ]
     },
     "execution_count": 23,
     "metadata": {},
     "output_type": "execute_result"
    }
   ],
   "source": [
    "X_train, X_test, y_train, y_test = train_test_split(final_features, labels)\n",
    "\n",
    "dist = {\n",
    "    'n_estimators' : [100,200,300,500,1000],\n",
    "    'min_samples_split': [2,4,6,8],\n",
    "    'min_samples_leaf': [1,2,3,4,5],\n",
    "}\n",
    "random_search = RandomizedSearchCV(rfc, dist, n_iter=20, random_state=42)\n",
    "search = random_search.fit(X_train, y_train)\n",
    "params = search.best_params_\n",
    "search.score(X_test, y_test)"
   ]
  },
  {
   "cell_type": "code",
   "execution_count": 24,
   "metadata": {},
   "outputs": [
    {
     "data": {
      "text/plain": [
       "(array([0, 1, 1, ..., 1, 0, 0]),\n",
       " array([0, 0, 1, ..., 1, 0, 0]),\n",
       " array([[0.930818  , 0.069182  ],\n",
       "        [0.23518193, 0.76481807],\n",
       "        [0.03472341, 0.96527659],\n",
       "        ...,\n",
       "        [0.08727778, 0.91272222],\n",
       "        [0.7880754 , 0.2119246 ],\n",
       "        [0.79817857, 0.20182143]]))"
      ]
     },
     "execution_count": 24,
     "metadata": {},
     "output_type": "execute_result"
    }
   ],
   "source": [
    "strat_kfold(search, final_features, 5)"
   ]
  },
  {
   "cell_type": "markdown",
   "metadata": {},
   "source": [
    "## XGBoost"
   ]
  },
  {
   "cell_type": "code",
   "execution_count": 25,
   "metadata": {},
   "outputs": [
    {
     "name": "stderr",
     "output_type": "stream",
     "text": [
      "c:\\python37\\lib\\site-packages\\xgboost\\sklearn.py:888: UserWarning: The use of label encoder in XGBClassifier is deprecated and will be removed in a future release. To remove this warning, do the following: 1) Pass option use_label_encoder=False when constructing XGBClassifier object; and 2) Encode your labels (y) as integers starting with 0, i.e. 0, 1, 2, ..., [num_class - 1].\n",
      "  warnings.warn(label_encoder_deprecation_msg, UserWarning)\n"
     ]
    },
    {
     "name": "stdout",
     "output_type": "stream",
     "text": [
      "[19:20:55] WARNING: C:/Users/Administrator/workspace/xgboost-win64_release_1.3.0/src/learner.cc:1061: Starting in XGBoost 1.3.0, the default evaluation metric used with the objective 'binary:logistic' was changed from 'error' to 'logloss'. Explicitly set eval_metric if you'd like to restore the old behavior.\n",
      "[19:21:42] WARNING: C:/Users/Administrator/workspace/xgboost-win64_release_1.3.0/src/learner.cc:1061: Starting in XGBoost 1.3.0, the default evaluation metric used with the objective 'binary:logistic' was changed from 'error' to 'logloss'. Explicitly set eval_metric if you'd like to restore the old behavior.\n",
      "[19:22:29] WARNING: C:/Users/Administrator/workspace/xgboost-win64_release_1.3.0/src/learner.cc:1061: Starting in XGBoost 1.3.0, the default evaluation metric used with the objective 'binary:logistic' was changed from 'error' to 'logloss'. Explicitly set eval_metric if you'd like to restore the old behavior.\n",
      "[19:23:16] WARNING: C:/Users/Administrator/workspace/xgboost-win64_release_1.3.0/src/learner.cc:1061: Starting in XGBoost 1.3.0, the default evaluation metric used with the objective 'binary:logistic' was changed from 'error' to 'logloss'. Explicitly set eval_metric if you'd like to restore the old behavior.\n",
      "[19:24:03] WARNING: C:/Users/Administrator/workspace/xgboost-win64_release_1.3.0/src/learner.cc:1061: Starting in XGBoost 1.3.0, the default evaluation metric used with the objective 'binary:logistic' was changed from 'error' to 'logloss'. Explicitly set eval_metric if you'd like to restore the old behavior.\n"
     ]
    },
    {
     "name": "stderr",
     "output_type": "stream",
     "text": [
      "c:\\python37\\lib\\site-packages\\xgboost\\sklearn.py:888: UserWarning: The use of label encoder in XGBClassifier is deprecated and will be removed in a future release. To remove this warning, do the following: 1) Pass option use_label_encoder=False when constructing XGBClassifier object; and 2) Encode your labels (y) as integers starting with 0, i.e. 0, 1, 2, ..., [num_class - 1].\n",
      "  warnings.warn(label_encoder_deprecation_msg, UserWarning)\n"
     ]
    },
    {
     "name": "stdout",
     "output_type": "stream",
     "text": [
      "[19:24:50] WARNING: C:/Users/Administrator/workspace/xgboost-win64_release_1.3.0/src/learner.cc:1061: Starting in XGBoost 1.3.0, the default evaluation metric used with the objective 'binary:logistic' was changed from 'error' to 'logloss'. Explicitly set eval_metric if you'd like to restore the old behavior.\n",
      "[19:25:32] WARNING: C:/Users/Administrator/workspace/xgboost-win64_release_1.3.0/src/learner.cc:1061: Starting in XGBoost 1.3.0, the default evaluation metric used with the objective 'binary:logistic' was changed from 'error' to 'logloss'. Explicitly set eval_metric if you'd like to restore the old behavior.\n",
      "[19:26:14] WARNING: C:/Users/Administrator/workspace/xgboost-win64_release_1.3.0/src/learner.cc:1061: Starting in XGBoost 1.3.0, the default evaluation metric used with the objective 'binary:logistic' was changed from 'error' to 'logloss'. Explicitly set eval_metric if you'd like to restore the old behavior.\n",
      "[19:26:57] WARNING: C:/Users/Administrator/workspace/xgboost-win64_release_1.3.0/src/learner.cc:1061: Starting in XGBoost 1.3.0, the default evaluation metric used with the objective 'binary:logistic' was changed from 'error' to 'logloss'. Explicitly set eval_metric if you'd like to restore the old behavior.\n",
      "[19:27:40] WARNING: C:/Users/Administrator/workspace/xgboost-win64_release_1.3.0/src/learner.cc:1061: Starting in XGBoost 1.3.0, the default evaluation metric used with the objective 'binary:logistic' was changed from 'error' to 'logloss'. Explicitly set eval_metric if you'd like to restore the old behavior.\n"
     ]
    },
    {
     "name": "stderr",
     "output_type": "stream",
     "text": [
      "c:\\python37\\lib\\site-packages\\xgboost\\sklearn.py:888: UserWarning: The use of label encoder in XGBClassifier is deprecated and will be removed in a future release. To remove this warning, do the following: 1) Pass option use_label_encoder=False when constructing XGBClassifier object; and 2) Encode your labels (y) as integers starting with 0, i.e. 0, 1, 2, ..., [num_class - 1].\n",
      "  warnings.warn(label_encoder_deprecation_msg, UserWarning)\n"
     ]
    },
    {
     "name": "stdout",
     "output_type": "stream",
     "text": [
      "[19:28:21] WARNING: C:/Users/Administrator/workspace/xgboost-win64_release_1.3.0/src/learner.cc:1061: Starting in XGBoost 1.3.0, the default evaluation metric used with the objective 'binary:logistic' was changed from 'error' to 'logloss'. Explicitly set eval_metric if you'd like to restore the old behavior.\n",
      "[19:28:21] WARNING: C:/Users/Administrator/workspace/xgboost-win64_release_1.3.0/src/learner.cc:1061: Starting in XGBoost 1.3.0, the default evaluation metric used with the objective 'binary:logistic' was changed from 'error' to 'logloss'. Explicitly set eval_metric if you'd like to restore the old behavior.\n",
      "[19:28:22] WARNING: C:/Users/Administrator/workspace/xgboost-win64_release_1.3.0/src/learner.cc:1061: Starting in XGBoost 1.3.0, the default evaluation metric used with the objective 'binary:logistic' was changed from 'error' to 'logloss'. Explicitly set eval_metric if you'd like to restore the old behavior.\n",
      "[19:28:22] WARNING: C:/Users/Administrator/workspace/xgboost-win64_release_1.3.0/src/learner.cc:1061: Starting in XGBoost 1.3.0, the default evaluation metric used with the objective 'binary:logistic' was changed from 'error' to 'logloss'. Explicitly set eval_metric if you'd like to restore the old behavior.\n",
      "[19:28:22] WARNING: C:/Users/Administrator/workspace/xgboost-win64_release_1.3.0/src/learner.cc:1061: Starting in XGBoost 1.3.0, the default evaluation metric used with the objective 'binary:logistic' was changed from 'error' to 'logloss'. Explicitly set eval_metric if you'd like to restore the old behavior.\n",
      "All features: F1=0.7980356046654388\tAcc=0.7913760304375397\n",
      "Vector features: F1=0.6603878116343491\tAcc=0.611287254280279\n",
      "Final features: F1=0.776173285198556\tAcc=0.7641090678503487\n"
     ]
    }
   ],
   "source": [
    "xgb = xgboost.XGBClassifier(random_state=42)\n",
    "xgb_results = try_different_feats(xgb)"
   ]
  },
  {
   "cell_type": "code",
   "execution_count": 26,
   "metadata": {},
   "outputs": [
    {
     "name": "stderr",
     "output_type": "stream",
     "text": [
      "c:\\python37\\lib\\site-packages\\xgboost\\sklearn.py:888: UserWarning: The use of label encoder in XGBClassifier is deprecated and will be removed in a future release. To remove this warning, do the following: 1) Pass option use_label_encoder=False when constructing XGBClassifier object; and 2) Encode your labels (y) as integers starting with 0, i.e. 0, 1, 2, ..., [num_class - 1].\n",
      "  warnings.warn(label_encoder_deprecation_msg, UserWarning)\n"
     ]
    },
    {
     "data": {
      "text/plain": [
       "0.7670886075949367"
      ]
     },
     "execution_count": 26,
     "metadata": {},
     "output_type": "execute_result"
    }
   ],
   "source": [
    "X_train, X_test, y_train, y_test = train_test_split(final_features, labels, random_state=42)\n",
    "\n",
    "dist = {\n",
    "    'n_estimators' : [100,200,300,500,1000,2000],\n",
    "    'max_depth' : [6,7,8,9,10],\n",
    "    'gamma' : [0,1,2,3,5,8],\n",
    "    'learning_rate':[0.003, 0.01, 0.03, 0.1],\n",
    "    \"eval_metric\": [\"logloss\", \"error\"],\n",
    "}\n",
    "random_search = RandomizedSearchCV(xgb, dist, n_iter=20, random_state=42)\n",
    "search = random_search.fit(X_train, y_train)\n",
    "params = search.best_params_\n",
    "search.score(X_test, y_test)"
   ]
  },
  {
   "cell_type": "markdown",
   "metadata": {},
   "source": [
    "## Support Vector Machine"
   ]
  },
  {
   "cell_type": "code",
   "execution_count": 28,
   "metadata": {},
   "outputs": [
    {
     "name": "stdout",
     "output_type": "stream",
     "text": [
      "All features: F1=0.735195530726257\tAcc=0.699429296131896\n",
      "Vector features: F1=0.6967340590979783\tAcc=0.6290424857324033\n",
      "Final features: F1=0.7282913165266107\tAcc=0.6924540266328472\n"
     ]
    }
   ],
   "source": [
    "svm_clf = svm.SVC(probability=True, random_state=42)\n",
    "svc_results = try_different_feats(svm_clf)"
   ]
  },
  {
   "cell_type": "code",
   "execution_count": null,
   "metadata": {},
   "outputs": [],
   "source": [
    "X_train, X_test, y_train, y_test = train_test_split(final_features, labels)\n",
    "\n",
    "dist = {\n",
    "    'C' : [1,2,3],\n",
    "    'gamma' : ['scale', 'auto'],\n",
    "}\n",
    "random_search = RandomizedSearchCV(svm_clf, dist, n_iter=20, random_state=42)\n",
    "search = random_search.fit(X_train, y_train)\n",
    "params = search.best_params_\n",
    "search.score(X_test, y_test)"
   ]
  },
  {
   "cell_type": "markdown",
   "metadata": {},
   "source": [
    "## Logistic Regression"
   ]
  },
  {
   "cell_type": "code",
   "execution_count": 29,
   "metadata": {},
   "outputs": [
    {
     "name": "stdout",
     "output_type": "stream",
     "text": [
      "All features: F1=0.8186588921282798\tAcc=0.8027901077996196\n",
      "Vector features: F1=0.6608122941822173\tAcc=0.6081166772352569\n",
      "Final features: F1=0.7853403141361256\tAcc=0.7660114140773621\n"
     ]
    }
   ],
   "source": [
    "lrg = LogisticRegression(max_iter=2000, n_jobs=4, random_state=42\n",
    "lrg_results = try_different_feats(lrg)"
   ]
  },
  {
   "cell_type": "markdown",
   "metadata": {},
   "source": [
    "## Naive Bayes"
   ]
  },
  {
   "cell_type": "code",
   "execution_count": 30,
   "metadata": {},
   "outputs": [
    {
     "name": "stdout",
     "output_type": "stream",
     "text": [
      "All features: F1=0.6350404312668463\tAcc=0.570703868103995\n",
      "Vector features: F1=0.603943661971831\tAcc=0.5542168674698795\n",
      "Final features: F1=0.7845117845117845\tAcc=0.7564996829422955\n"
     ]
    }
   ],
   "source": [
    "nb = GaussianNB(random_state=42)\n",
    "nb_results = try_different_feats(nb)"
   ]
  },
  {
   "cell_type": "markdown",
   "metadata": {},
   "source": [
    "## MLP Test"
   ]
  },
  {
   "cell_type": "code",
   "execution_count": 31,
   "metadata": {},
   "outputs": [
    {
     "name": "stdout",
     "output_type": "stream",
     "text": [
      "All features: F1=0.7463893703061815\tAcc=0.7216233354470514\n",
      "Vector features: F1=0.6378132118451025\tAcc=0.5967025998731769\n",
      "Final features: F1=0.7943760984182776\tAcc=0.777425491439442\n"
     ]
    }
   ],
   "source": [
    "mlp = MLPClassifier(max_iter=1000, random_state=42)\n",
    "mlp_results = try_different_feats(mlp)"
   ]
  },
  {
   "cell_type": "markdown",
   "metadata": {},
   "source": [
    "## Dummy Baseline"
   ]
  },
  {
   "cell_type": "code",
   "execution_count": 32,
   "metadata": {},
   "outputs": [
    {
     "name": "stderr",
     "output_type": "stream",
     "text": [
      "c:\\python37\\lib\\site-packages\\sklearn\\dummy.py:132: FutureWarning: The default value of strategy will change from stratified to prior in 0.24.\n",
      "  \"stratified to prior in 0.24.\", FutureWarning)\n",
      "c:\\python37\\lib\\site-packages\\sklearn\\dummy.py:132: FutureWarning: The default value of strategy will change from stratified to prior in 0.24.\n",
      "  \"stratified to prior in 0.24.\", FutureWarning)\n"
     ]
    },
    {
     "name": "stdout",
     "output_type": "stream",
     "text": [
      "All features: F1=0.5251798561151079\tAcc=0.49778059606848446\n",
      "Vector features: F1=0.5201201201201202\tAcc=0.4933417882054534\n",
      "Final features: F1=0.540508574807806\tAcc=0.507292327203551\n"
     ]
    },
    {
     "name": "stderr",
     "output_type": "stream",
     "text": [
      "c:\\python37\\lib\\site-packages\\sklearn\\dummy.py:132: FutureWarning: The default value of strategy will change from stratified to prior in 0.24.\n",
      "  \"stratified to prior in 0.24.\", FutureWarning)\n"
     ]
    }
   ],
   "source": [
    "dummy = DummyClassifier(random_state=42)\n",
    "dummy_results = try_different_feats(dummy)"
   ]
  },
  {
   "cell_type": "markdown",
   "metadata": {},
   "source": [
    "## ROC Curve"
   ]
  },
  {
   "cell_type": "code",
   "execution_count": 33,
   "metadata": {},
   "outputs": [],
   "source": [
    "def plot_roc_cur(fper, tper, label=\"\", title=\"plot title\"):\n",
    "    plt.plot(fper, tper, label=label)\n",
    "    plt.plot([0, 1], [0, 1], color='darkblue', linestyle='--')\n",
    "    plt.xlabel('False Positive Rate')\n",
    "    plt.ylabel('True Positive Rate')\n",
    "    plt.title(title)\n",
    "    plt.legend(loc='lower right')\n",
    "    \n",
    "def create_roc_curve(preds, targets, label=\"\", title=\"\"):\n",
    "    all_fpr, all_tpr = [], []\n",
    "    print(preds[:,1])\n",
    "    fpr, tpr, thresholds = roc_curve(targets, preds[:,1]) #De her burde vist være nyttet om...\n",
    "    all_fpr.append(fpr)\n",
    "    all_tpr.append(tpr)\n",
    "    all_fpr = np.array(all_fpr)\n",
    "    all_tpr = np.array(tpr)\n",
    "    \n",
    "    plot_roc_cur(all_fpr[0], all_tpr, label=label, title=title)"
   ]
  },
  {
   "cell_type": "code",
   "execution_count": 36,
   "metadata": {},
   "outputs": [],
   "source": [
    "labels = ['Random Forest', 'Support Vector Machine', 'Logistic Regression', 'XGBoost', 'Multilayer Perceptron']\n",
    "all_results = [rfc_results[0][0], svc_results[0][0], lrg_results[0][0], xgb_results[0][0], mlp_results[0][0]]\n",
    "all_targets = [rfc_results[0][1], svc_results[0][1], lrg_results[0][1], xgb_results[0][1], mlp_results[0][1]]\n",
    "\n",
    "vec_results = [rfc_results[1][0], svc_results[1][0], lrg_results[1][0], xgb_results[1][0], mlp_results[1][0]]\n",
    "vec_targets = [rfc_results[1][1], svc_results[1][1], lrg_results[1][1], xgb_results[1][1], mlp_results[1][1]]\n",
    "\n",
    "fin_results = [rfc_results[2][0], svc_results[2][0], lrg_results[2][0], xgb_results[2][0], mlp_results[2][0]]\n",
    "fin_targets = [rfc_results[2][1], svc_results[2][1], lrg_results[2][1], xgb_results[2][1], mlp_results[2][1]]"
   ]
  },
  {
   "cell_type": "code",
   "execution_count": 37,
   "metadata": {},
   "outputs": [
    {
     "name": "stdout",
     "output_type": "stream",
     "text": [
      "[0.484 0.57  0.642 ... 0.614 0.46  0.376]\n",
      "[0.57607557 0.81662646 0.79348595 ... 0.75152654 0.28831576 0.10726647]\n",
      "[0.20752006 0.83315123 0.88507879 ... 0.76088865 0.30180406 0.02739544]\n",
      "[0.15369123 0.97744036 0.99407506 ... 0.9946024  0.01062109 0.03460389]\n",
      "[5.53112238e-01 9.66671343e-01 4.35838215e-01 ... 8.76268268e-01\n",
      " 2.57079082e-02 2.29639606e-04]\n"
     ]
    },
    {
     "data": {
      "image/png": "[encoded data removed]",
      "text/plain": [
       "<Figure size 576x396 with 1 Axes>"
      ]
     },
     "metadata": {},
     "output_type": "display_data"
    }
   ],
   "source": [
    "for i in range(len(all_results)):\n",
    "    create_roc_curve(all_results[i], all_targets[i], label=labels[i], title=\"ROC Curve For All Features\")"
   ]
  },
  {
   "cell_type": "code",
   "execution_count": 38,
   "metadata": {},
   "outputs": [
    {
     "name": "stdout",
     "output_type": "stream",
     "text": [
      "[0.572 0.58  0.56  ... 0.584 0.54  0.458]\n",
      "[0.53973468 0.74986234 0.61933457 ... 0.76306733 0.64609593 0.25126132]\n",
      "[0.61316032 0.67886226 0.53645808 ... 0.69849237 0.55103583 0.39483343]\n",
      "[0.95704776 0.91462433 0.29496625 ... 0.99780256 0.3692926  0.8521154 ]\n",
      "[0.96427863 0.9561621  0.03414349 ... 0.92101424 0.01050732 0.0158442 ]\n"
     ]
    },
    {
     "data": {
      "image/png": "[encoded data removed]",
      "text/plain": [
       "<Figure size 576x396 with 1 Axes>"
      ]
     },
     "metadata": {},
     "output_type": "display_data"
    }
   ],
   "source": [
    "for i in range(len(vec_results)):\n",
    "    create_roc_curve(vec_results[i], vec_targets[i], label=labels[i], title=\"ROC Curve For Vector Features\")"
   ]
  },
  {
   "cell_type": "code",
   "execution_count": 39,
   "metadata": {},
   "outputs": [
    {
     "name": "stdout",
     "output_type": "stream",
     "text": [
      "[0.062 0.786 0.948 ... 0.968 0.176 0.23 ]\n",
      "[0.46641317 0.79512707 0.79947822 ... 0.7520772  0.25175476 0.13634503]\n",
      "[0.13019342 0.74140624 0.91778544 ... 0.76440874 0.33236516 0.04453122]\n",
      "[0.00268489 0.7966953  0.99362224 ... 0.99880314 0.04506864 0.06483506]\n",
      "[0.0571555  0.7672677  0.98238899 ... 0.86653864 0.21588969 0.04756168]\n"
     ]
    },
    {
     "data": {
      "image/png": "[encoded data removed]",
      "text/plain": [
       "<Figure size 576x396 with 1 Axes>"
      ]
     },
     "metadata": {},
     "output_type": "display_data"
    }
   ],
   "source": [
    "for i in range(len(fin_results)):\n",
    "    create_roc_curve(fin_results[i], fin_targets[i], label=labels[i], title=\"ROC Curve For Scalar Features\")"
   ]
  },
  {
   "cell_type": "code",
   "execution_count": null,
   "metadata": {},
   "outputs": [],
   "source": []
  }
 ],
 "metadata": {
  "kernelspec": {
   "display_name": "Python 3",
   "language": "python",
   "name": "python3"
  },
  "language_info": {
   "codemirror_mode": {
    "name": "ipython",
    "version": 3
   },
   "file_extension": ".py",
   "mimetype": "text/x-python",
   "name": "python",
   "nbconvert_exporter": "python",
   "pygments_lexer": "ipython3",
   "version": "3.7.4"
  }
 },
 "nbformat": 4,
 "nbformat_minor": 4
}
