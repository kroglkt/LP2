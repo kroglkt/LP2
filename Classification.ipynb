{
 "cells": [
  {
   "cell_type": "markdown",
   "metadata": {},
   "source": [
    "# Classification notebook\n",
    "### No feature extraction here - will load from pickle file"
   ]
  },
  {
   "cell_type": "code",
   "execution_count": 19,
   "metadata": {},
   "outputs": [],
   "source": [
    "import pickle\n",
    "import numpy as np\n",
    "import pandas as pd\n",
    "import json\n",
    "import random\n",
    "from tqdm import tqdm\n",
    "\n",
    "from sklearn.model_selection import StratifiedKFold\n",
    "from sklearn.ensemble import RandomForestClassifier\n",
    "from sklearn.model_selection import RandomizedSearchCV\n",
    "from sklearn.model_selection import train_test_split\n",
    "from sklearn.neural_network import MLPClassifier"
   ]
  },
  {
   "cell_type": "code",
   "execution_count": 20,
   "metadata": {},
   "outputs": [],
   "source": [
    "def rand_emot():\n",
    "    e = [\"(o_o)\",\":-)\",\":P\",\":D\",\"x)\",\"ᓚᘏᗢ\",\"╯°□°）╯︵ ┻━┻\",\":)\",\n",
    "         \"*<:-)\",\"^_^\",\"(⌐■_■)\",\"¯\\_(ツ)_/¯\", \"(T_T)\",\":o\",\"OwO\",\n",
    "        \"( ͡❛ ͜ʖ ͡❛)\",\"(̶◉͛‿◉̶)\",\"( ≖.≖)\",\"(ㆆ_ㆆ)\",\"ʕ•́ᴥ•̀ʔっ\",\"( ◡́.◡̀)\",\"(^◡^ )\"]\n",
    "    return random.choice(e)\n",
    "\n",
    "def load_files():\n",
    "    text_pairs = [] #Would be nice to have as np.array\n",
    "    labels = []\n",
    "    fandom = []\n",
    "    \n",
    "    pair_id = []\n",
    "    true_id = []\n",
    "    \n",
    "    #Load truth JSON\n",
    "    for line in open('data/modified/train_truth.jsonl'):\n",
    "        d = json.loads(line.strip())\n",
    "        labels.append(int(d['same']))\n",
    "        true_id.append(d['id'])\n",
    "\n",
    "    #Load actual fanfic.\n",
    "    print(\"loading fanfic...\",rand_emot())\n",
    "    for line in tqdm(open('data/modified/train_pair.jsonl')):\n",
    "        d = json.loads(line.strip())\n",
    "        text_pairs.append(d['pair'])\n",
    "        fandom.append(d['fandoms'])\n",
    "        pair_id.append(d['id'])\n",
    "\n",
    "    print(\"done loading\",rand_emot())\n",
    "    \n",
    "    return text_pairs, labels, fandom, pair_id, true_id"
   ]
  },
  {
   "cell_type": "code",
   "execution_count": 21,
   "metadata": {},
   "outputs": [
    {
     "name": "stderr",
     "output_type": "stream",
     "text": [
      "133it [00:00, 1326.49it/s]"
     ]
    },
    {
     "name": "stdout",
     "output_type": "stream",
     "text": [
      "loading fanfic... :P\n"
     ]
    },
    {
     "name": "stderr",
     "output_type": "stream",
     "text": [
      "1578it [00:00, 1648.45it/s]"
     ]
    },
    {
     "name": "stdout",
     "output_type": "stream",
     "text": [
      "done loading OwO\n"
     ]
    },
    {
     "name": "stderr",
     "output_type": "stream",
     "text": [
      "\n"
     ]
    }
   ],
   "source": [
    "_, labels, _, _, _ = load_files()\n",
    "labels.pop(713)\n",
    "y = labels"
   ]
  },
  {
   "cell_type": "code",
   "execution_count": 26,
   "metadata": {},
   "outputs": [],
   "source": [
    "def save_features(feature_dict, filename='features'):\n",
    "    '''Save the updated feature dictionary. Takes dictionary as input and saves as binary file\n",
    "    \n",
    "    example: \n",
    "    >>> my_featues = {'freqdist': [1,6,3,5]}\n",
    "    >>> save_features(my_features)'''\n",
    "    \n",
    "    with open('data/{}.dat'.format(filename), 'wb') as file:\n",
    "        pickle.dump(feature_dict, file)\n",
    "    print(\"Features saved! :-)\")\n",
    "\n",
    "def load_features(filename='features'):\n",
    "    '''Load feature dictionary. Returns the saved feature as a dictionary.\n",
    "    \n",
    "    example: \n",
    "    >>> my_features = load_features()'''\n",
    "    \n",
    "    with open('data/{}.dat'.format(filename), 'rb') as file:\n",
    "        feats = pickle.load(file)\n",
    "    print(\"Features available:\")\n",
    "    for i in feats.keys():\n",
    "        print(i)\n",
    "    return feats"
   ]
  },
  {
   "cell_type": "code",
   "execution_count": 33,
   "metadata": {},
   "outputs": [
    {
     "name": "stdout",
     "output_type": "stream",
     "text": [
      "Features available:\n",
      "function_words_freq_dist\n",
      "character_bigram\n",
      "skip_bigram\n",
      "pos_skipgram\n",
      "function_words\n",
      "profanity_words\n",
      "avg_sent_length\n",
      "avg_word_length\n",
      "lix\n",
      "yule_i\n",
      "num_misspellings\n",
      "Features available:\n",
      "character_bigram\n",
      "skip_bigram\n",
      "pos_skipgram\n",
      "pos_bigram\n",
      "character_bigram_cossim\n",
      "skip_bigram_cossim\n",
      "pos_skipgram_cossim\n",
      "pos_bigram_cossim\n"
     ]
    }
   ],
   "source": [
    "feats = load_features()\n",
    "feats2 = load_features(filename=\"feats_0706\")"
   ]
  },
  {
   "cell_type": "code",
   "execution_count": 34,
   "metadata": {},
   "outputs": [
    {
     "name": "stdout",
     "output_type": "stream",
     "text": [
      "function_words_freq_dist \t (1577, 259)\n",
      "character_bigram \t (1577, 6000)\n",
      "skip_bigram \t (1577, 8000)\n",
      "pos_skipgram \t (1577, 8000)\n",
      "function_words \t (1577, 1)\n",
      "profanity_words \t (1577, 1)\n",
      "avg_sent_length \t (1577, 1)\n",
      "avg_word_length \t (1577, 1)\n",
      "lix \t (1577, 1)\n",
      "yule_i \t (1577, 1)\n",
      "num_misspellings \t (1577, 1)\n",
      "character_bigram \t (1577, 6000)\n",
      "skip_bigram \t (1577, 8000)\n",
      "pos_skipgram \t (1577, 2208)\n",
      "pos_bigram \t (1577, 6000)\n",
      "character_bigram_cossim \t (1577, 1)\n",
      "skip_bigram_cossim \t (1577, 1)\n",
      "pos_skipgram_cossim \t (1577, 1)\n",
      "pos_bigram_cossim \t (1577, 1)\n"
     ]
    }
   ],
   "source": [
    "for i in feats:\n",
    "    if len(feats[i].shape)==1:\n",
    "        feats[i] = feats[i][:,None]\n",
    "    print(i, \"\\t\", feats[i].shape)\n",
    "\n",
    "for i in feats2:\n",
    "    if len(feats2[i].shape)==1:\n",
    "        feats2[i] = feats2[i][:,None]\n",
    "    print(i, \"\\t\", feats2[i].shape)"
   ]
  },
  {
   "cell_type": "markdown",
   "metadata": {},
   "source": [
    "## Stratified K-Fold"
   ]
  },
  {
   "cell_type": "code",
   "execution_count": 7,
   "metadata": {},
   "outputs": [],
   "source": [
    "def strat_kfold(model, X, k):\n",
    "    y = np.array(labels)\n",
    "    accuracies = []\n",
    "    skf = StratifiedKFold(n_splits=k, shuffle=True, random_state=69)\n",
    "    for train_index, test_index in skf.split(X, y):\n",
    "        X_train, X_test = X[train_index], X[test_index]\n",
    "        y_train, y_test = y[train_index], y[test_index]\n",
    "        model.fit(X_train, y_train)\n",
    "        accuracies.append(model.score(X_test, y_test))\n",
    "    \n",
    "    return np.mean(accuracies)\n",
    "\n",
    "def combine_features(features):\n",
    "    #List of features as input\n",
    "    return np.hstack((features))"
   ]
  },
  {
   "cell_type": "code",
   "execution_count": 37,
   "metadata": {},
   "outputs": [
    {
     "name": "stdout",
     "output_type": "stream",
     "text": [
      "All features: (1577, 22266)\n",
      "Scalar features: (1577, 7)\n",
      "Forced scalar features: (1577, 11)\n",
      "Vector features: (1577, 22259)\n",
      "Final features: (1577, 11)\n"
     ]
    }
   ],
   "source": [
    "#Stratified 2-Fold accuracy on ALL Features\n",
    "rfc = RandomForestClassifier(n_estimators=500, random_state=42)\n",
    "all_features = combine_features([feats[x] for x in feats])\n",
    "scalar_features = combine_features([feats[x] for x in feats if feats[x].shape[1]==1])\n",
    "forced_scalars = []\n",
    "for i in feats:\n",
    "    if feats[i].shape[1] >1:\n",
    "        forced_scalars.append(np.mean(feats[i], axis=1)[:,None])\n",
    "    else:\n",
    "        forced_scalars.append(feats[i])\n",
    "\n",
    "forced_scalars = combine_features(forced_scalars)\n",
    "vector_features = combine_features([feats['function_words_freq_dist'],\n",
    "                                  feats['character_bigram'],\n",
    "                                  feats['skip_bigram'],\n",
    "                                  feats['pos_skipgram']])\n",
    "\n",
    "final_features = combine_features([feats['function_words'],\n",
    "                                 feats['profanity_words'],\n",
    "                                 feats['avg_sent_length'],\n",
    "                                 feats['avg_word_length'],\n",
    "                                 feats['lix'],\n",
    "                                 feats['yule_i'],\n",
    "                                 feats['num_misspellings'],\n",
    "                                 feats2['character_bigram_cossim'],\n",
    "                                 feats2['skip_bigram_cossim'],\n",
    "                                 feats2['pos_skipgram_cossim'],\n",
    "                                 feats2['pos_bigram_cossim']])\n",
    "\n",
    "print(\"All features:\",all_features.shape)\n",
    "print(\"Scalar features:\", scalar_features.shape)\n",
    "print(\"Forced scalar features:\", forced_scalars.shape)\n",
    "print(\"Vector features:\", vector_features.shape)\n",
    "print(\"Final features:\", final_features.shape)"
   ]
  },
  {
   "cell_type": "code",
   "execution_count": null,
   "metadata": {},
   "outputs": [],
   "source": [
    "character_bigram_cossim \t (1577, 1)\n",
    "skip_bigram_cossim \t (1577, 1)\n",
    "pos_skipgram_cossim \t (1577, 1)\n",
    "pos_bigram_cossim \t (1577, 1)"
   ]
  },
  {
   "cell_type": "markdown",
   "metadata": {},
   "source": [
    "## Random Forest"
   ]
  },
  {
   "cell_type": "code",
   "execution_count": 9,
   "metadata": {},
   "outputs": [
    {
     "data": {
      "text/plain": [
       "0.6246075479467037"
      ]
     },
     "execution_count": 9,
     "metadata": {},
     "output_type": "execute_result"
    }
   ],
   "source": [
    "strat_kfold(rfc, all_features, 2)"
   ]
  },
  {
   "cell_type": "code",
   "execution_count": 10,
   "metadata": {},
   "outputs": [
    {
     "data": {
      "text/plain": [
       "0.6740787623066105"
      ]
     },
     "execution_count": 10,
     "metadata": {},
     "output_type": "execute_result"
    }
   ],
   "source": [
    "#Stratified 5-Fold on the 8k best Random Forest Features\n",
    "rfc_8k_feats = all_features[:,rfc.feature_importances_.argsort()[-8000:][::-1]]\n",
    "strat_kfold(rfc, rfc_8k_feats, 5)"
   ]
  },
  {
   "cell_type": "code",
   "execution_count": 11,
   "metadata": {},
   "outputs": [
    {
     "data": {
      "text/plain": [
       "0.6081173397629094"
      ]
     },
     "execution_count": 11,
     "metadata": {},
     "output_type": "execute_result"
    }
   ],
   "source": [
    "strat_kfold(rfc, vector_features, 5)"
   ]
  },
  {
   "cell_type": "code",
   "execution_count": 12,
   "metadata": {},
   "outputs": [
    {
     "data": {
      "text/plain": [
       "0.7323950170785614"
      ]
     },
     "execution_count": 12,
     "metadata": {},
     "output_type": "execute_result"
    }
   ],
   "source": [
    "strat_kfold(rfc, forced_scalars, 5)"
   ]
  },
  {
   "cell_type": "code",
   "execution_count": 38,
   "metadata": {},
   "outputs": [
    {
     "data": {
      "text/plain": [
       "0.776158328310227"
      ]
     },
     "execution_count": 38,
     "metadata": {},
     "output_type": "execute_result"
    }
   ],
   "source": [
    "strat_kfold(rfc, final_features, 5)"
   ]
  },
  {
   "cell_type": "code",
   "execution_count": 13,
   "metadata": {},
   "outputs": [
    {
     "data": {
      "text/plain": [
       "0.7164556962025317"
      ]
     },
     "execution_count": 13,
     "metadata": {},
     "output_type": "execute_result"
    }
   ],
   "source": [
    "X_train, X_test, y_train, y_test = train_test_split(forced_scalars, labels)\n",
    "\n",
    "dist = {\n",
    "    'n_estimators' : [100,200,300,500,1000],\n",
    "    'min_samples_split': [2,4,6,8],\n",
    "    'min_samples_leaf': [1,2,3,4,5],\n",
    "}\n",
    "random_search = RandomizedSearchCV(rfc, dist, n_iter=20, random_state=42)\n",
    "search = random_search.fit(X_train, y_train)\n",
    "params = search.best_params_\n",
    "search.score(X_test, y_test)"
   ]
  },
  {
   "cell_type": "code",
   "execution_count": 14,
   "metadata": {},
   "outputs": [
    {
     "data": {
      "text/plain": [
       "0.7374643359453487"
      ]
     },
     "execution_count": 14,
     "metadata": {},
     "output_type": "execute_result"
    }
   ],
   "source": [
    "strat_kfold(search, forced_scalars, 5)"
   ]
  },
  {
   "cell_type": "markdown",
   "metadata": {},
   "source": [
    "## MLP Classifier"
   ]
  },
  {
   "cell_type": "code",
   "execution_count": 15,
   "metadata": {},
   "outputs": [
    {
     "name": "stdout",
     "output_type": "stream",
     "text": [
      "0.6467971730584883\n",
      "0.6785053688727618\n",
      "0.681050677783997\n",
      "0.5941659750503432\n"
     ]
    }
   ],
   "source": [
    "mlp = MLPClassifier(max_iter=2000)\n",
    "print(strat_kfold(mlp, all_features, 2))\n",
    "print(strat_kfold(mlp, scalar_features, 2))\n",
    "print(strat_kfold(mlp, forced_scalars, 2))\n",
    "print(strat_kfold(mlp, vector_features, 2))"
   ]
  },
  {
   "cell_type": "code",
   "execution_count": 16,
   "metadata": {},
   "outputs": [
    {
     "data": {
      "text/plain": [
       "0.7037974683544304"
      ]
     },
     "execution_count": 16,
     "metadata": {},
     "output_type": "execute_result"
    }
   ],
   "source": [
    "X_train, X_test, y_train, y_test = train_test_split(forced_scalars, labels)\n",
    "\n",
    "dist = {\n",
    "    'hidden_layer_sizes' : [[200,200], [500], [256,128,64,32], [1000], [500,500]],\n",
    "    'activation': ['relu', 'tanh', 'logistic', 'identity'],\n",
    "    'solver': ['adam', 'sgd', 'lbfgs'],\n",
    "    'learning_rate': ['adaptive', 'constant', 'invscaling']\n",
    "    \n",
    "}\n",
    "random_search = RandomizedSearchCV(mlp, dist, n_iter=20, random_state=42)\n",
    "search = random_search.fit(X_train, y_train)\n",
    "params = search.best_params_\n",
    "search.score(X_test, y_test)"
   ]
  },
  {
   "cell_type": "code",
   "execution_count": 18,
   "metadata": {},
   "outputs": [
    {
     "data": {
      "text/plain": [
       "0.6734480053111233"
      ]
     },
     "execution_count": 18,
     "metadata": {},
     "output_type": "execute_result"
    }
   ],
   "source": [
    "strat_kfold(search, forced_scalars, 3)"
   ]
  },
  {
   "cell_type": "code",
   "execution_count": null,
   "metadata": {},
   "outputs": [],
   "source": []
  }
 ],
 "metadata": {
  "kernelspec": {
   "display_name": "Python 3",
   "language": "python",
   "name": "python3"
  },
  "language_info": {
   "codemirror_mode": {
    "name": "ipython",
    "version": 3
   },
   "file_extension": ".py",
   "mimetype": "text/x-python",
   "name": "python",
   "nbconvert_exporter": "python",
   "pygments_lexer": "ipython3",
   "version": "3.7.4"
  }
 },
 "nbformat": 4,
 "nbformat_minor": 4
}
