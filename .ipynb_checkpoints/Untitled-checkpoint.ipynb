{
 "cells": [
  {
   "cell_type": "code",
   "execution_count": 27,
   "metadata": {},
   "outputs": [],
   "source": [
    "import numpy as np\n",
    "import json\n",
    "import tqdm"
   ]
  },
  {
   "cell_type": "code",
   "execution_count": 28,
   "metadata": {},
   "outputs": [],
   "source": [
    "a = [0, 1, 2, 5, 6, 8, 9]\n",
    "b = [0, 2, 3, 4, 5, 7, 9]"
   ]
  },
  {
   "cell_type": "code",
   "execution_count": 29,
   "metadata": {},
   "outputs": [
    {
     "data": {
      "text/plain": [
       "0.4"
      ]
     },
     "execution_count": 29,
     "metadata": {},
     "output_type": "execute_result"
    }
   ],
   "source": [
    "#define Jaccard Similarity function\n",
    "def jaccard(list1, list2):\n",
    "    intersection = len(list(set(list1).intersection(list2)))\n",
    "    union = (len(list1) + len(list2)) - intersection\n",
    "    return float(intersection) / union\n",
    "\n",
    "#find Jaccard Similarity between the two sets \n",
    "jaccard(a, b)"
   ]
  },
  {
   "cell_type": "code",
   "execution_count": 30,
   "metadata": {},
   "outputs": [],
   "source": [
    "def load_files():\n",
    "    text_pairs = [] #Would be nice to have as np.array\n",
    "    labels = []\n",
    "    fandom = []\n",
    "    \n",
    "    pair_id = []\n",
    "    true_id = []\n",
    "    \n",
    "    #Load truth JSON\n",
    "    for line in open('data/modified/train_truth.jsonl'):\n",
    "        d = json.loads(line.strip())\n",
    "        labels.append(int(d['same']))\n",
    "        true_id.append(d['id'])\n",
    "\n",
    "    #Load actual fanfic.\n",
    "    print(\"loading fanfic...\")\n",
    "    for line in open('data/modified/train_pair.jsonl'):\n",
    "        d = json.loads(line.strip())\n",
    "        text_pairs.append(d['pair'])\n",
    "        fandom.append(d['fandoms'])\n",
    "        pair_id.append(d['id'])\n",
    "\n",
    "    print(\"done loading\")\n",
    "    \n",
    "    return text_pairs, labels, fandom, pair_id, true_id"
   ]
  },
  {
   "cell_type": "code",
   "execution_count": 31,
   "metadata": {},
   "outputs": [
    {
     "name": "stdout",
     "output_type": "stream",
     "text": [
      "loading fanfic...\n",
      "done loading\n"
     ]
    }
   ],
   "source": [
    "text_pairs, labels, fandom, pair_id, true_id = load_files()"
   ]
  },
  {
   "cell_type": "code",
   "execution_count": 34,
   "metadata": {},
   "outputs": [
    {
     "data": {
      "text/plain": [
       "'Rhys gave LB a weak thumbs up, and warily turned back to his silent friend. Once more attempting to lighten the mood, Rhys steeled himself and stood up. He wasn\"t really thinking about what he was doing, but he had to do...something. Gagging slightly, he reached down to retrieve the dismembered head that had bounced off of Vaughn\"s shoulder and landed in his lap. Rhys methodically continued to gather up the numerous scattered limbs surrounding Vaughn and morbidly set them up like bowling pins a short distance away. Not being completely immune to the flesh rain himself, Rhys sloppily wiped some blood spray off his lips and cheeks when he was finished setting up the grotesque display. With an awkward half-smile, half-grimace, Rhys put his hand out to his friend. Looking pitiful, Vaughn tentatively took his hand and stood up. Entrails and some putrid fluids plopped onto the dust around them. Facing Vaughn, Rhys slowly brushed off and picked away some remaining fleshy bits from his neck and shoulders. When their eyes met, they both gagged at the mess and looked away. (It was hard to tell, but it looked like some spurts of puke had dribbled onto Vaughn\"s bloody chest.) Regaining their composure, Rhys spoke. \"I know this set up is creepy, but I want you to think of it like this: They-these, these MURDERERS would have done a lot worse to you if Loaderbot hadn\"t been here to help us. You would probably be halfway turned to shit by now. Which, by the way, thanks LB. You\"re awesome.\" He paused to smile at the robot and continued to speak after a few minutes of thinking. \"You see, Vaughn, I think this planet is like a game of bowling. That head-ahem, BALL-is Pandora\"s chaos and psychos and monsters and deadly shit hurtling toward us, and WE are the unsuspecting pins-Er, LIMBS-ripe and ready to be victims to it.\" Vaughn groaned at his choice of words. \"Ripe\" was certainly not anything he wanted to be described as, given his current occupation as a walking meat puppet. The thought of being an actual puppet to some sicko who wanted him as supper made him even more nauseous. Not really aware of Vaughn\"s declining state, Rhys grabbed the head again and shuddered at what he was about to do. For effect, he reached back his hand with the head like a bowling ball and postured himself to release it. Vaughn\"s eyes watered from holding down his puke. He was so mortified all he could do was try to listen and fight the much needed urge to purge his horror. He couldn\"t hold it in much longer, and Rhys wasn\"t helping in the least. In fact, he could barely comprehend half of what he was saying, but he appreciated Rhys\"s effort to help him feel better... Kind of. Rhys continued his metaphorical and awful pep-talk, trying not to vomit himself. (He had a vague thought then about how unsavory his methods were, but he was in too deep already. Vaughn was traumatized and he had no idea how to fix that, so he\"d impulsively chosen the rather dubious therapy of \"kill the killer.\") \"Vaughn? Are you listening? Just hear me out, okay?\" Rhys pleaded and then changed his tone before going on. \"We\"re like victims...But we don\"t have to BE victims. We can get smothered in disgusting nightmare juices, we can get chased by crazy cannibal bastards, and we can even become some monster\"s chew toy, but I\"ll be DAMNED if I just lay down and take it!\" With that declaration and surprisingly good form, Rhys flung the \"ball\" down toward the slanted arms and legs. Of course, he missed every one, but his point was made. He wondered to himself, \"Maybe Vaughn will change his perspective about this murderous hellhole.\\' Seconds later, his half-hearted wish was cut short. Violent retching noises erupted behind him, and he jumped around to see Vaughn mercilessly destroying his will to swallow the bile rising in his own throat. Rhys swallowed. \"That\"s...so...disgusting...\" Vaughn heaved at Rhys after he was finished. He straightened to face his friend before exploding. \"What the hell is WRONG with you? Why do that?! No, more importantly, what made you THINK of that? And why would I watch? OH GOD, Rhys. I don\"t...I don\"t think I\"ve ever appreciated being near-sighted as much as I have today.\" There were several long minutes of silence before Rhys piped up and asked timidly: \"So, did you get it? The metaphor, I mean.\" Vaughn simply hung his head in bloody, vomit-y defeat and sighed. \"Yeah, I think so...something about \"kill or be killed, so don\"t sweat these violent mutilations of human beings because they would wear you as a suit given the chance...\\'?\" \"Is that about right?\" Rhys shrugged his shoulders flippantly and put his arm around the congealed Vaughn. \"Close enough! Let\"s go get you cleaned up, bro,\" he quipped cheerfully. He paused a moment later and spoke pensively. \"As long as you understand...but I forgot to mention, you have ME, remember? So even if you think you can\"t make it, just know I\"ve always got your back.\" \"I think I\"m gonna puke again...\" Vaughn retorted with a bloody smile. The two laughed and returned to Loaderbot, grateful to be alive. It is not known how many bro-fists were bumped on the journey home, but you can be sure that Vaughn had recurring nightmares for weeks. SPOILERS! A newly geared-up LoaderBot... Urgency+falling space station+new suit-group of friends=Biggest troll in the universe?Or just OOC programming? Maybe a bit of both? \"..MAYDAY, MAYDAY...\" -HEAVY BREATHING- \"..This is Dameon Montague speaking...VIOLET...Violet, if you canhear me-I\"m about to leave on this emergency capsule and I love youand-\" -CRASHING NOISES- \"W-hat? What the fuck, man?!\" -D. MONTAGUE. -FEEDBACK NOISES- -\"I AM SORRY, FRIEND. I MUST SEND THIS MESSAGE.\"-SENTIENT ROBOTIC SOLDIER. \"But my fiancee, Violet! How will she know..?\"-D. MONTAGUE. \"VIOLET CAPULET? SHE THINKS YOU ARE DEAD. I DO NOT KNOW OF HERFATE.\"-SENTIENT ROBOTIC SOLDIER. \"What?! But what if she thinks I\"m dead? How can she know I\"malive?\"-D. MONTAGUE. -\"THEN YOU SHOULD BOTH WAIT AND AVOID JUMPING TO CONCLUSIONS.\"-SRS. -\"TO THE REFUGEES OF HELIOS...BRACE YOURSELF UPON LANDING, AND BE ATPEACE IF YOU DO NOT SURVIVE.\" -\"I ALSO REGRET TO INFORM YOU THAT YOUR IMMINENT DEATH IS LIKELY THEFAULT OF NO ONE, AND YOU ARE SIMPLY COLLATERAL DAMAGE. YOU SHOULDATTEMPT TO RESCIND YOUR ANGER OR FRUSTRATION.\" -\"FAILING THAT, INCENTIVE FOR SURVIVAL IS A GREAT IDEA! CHANNEL YOURDESPERATION INTO SOMETHING MORE CONDUCIVE FOR THE VIOLENT NATURE OFPANDORA. FINDTHE NEAREST MUNITIONS VENDOR AND SUPPLY YOURSELFWITH GEAR AS NEEDED. EXACT COORDINATES TBD.\" -\"TO MY FRIENDS AND GORTYS: I AM ALIVE. DO NOT LOSE FAITH, SO PLEASEWAIT FOR ME. THERE IS STRENGTH IN NUMBERS. I WILL FIND YOU.SEE YOU SOON.\"- Slightly anachronistic...forgive me. Damned if he did... And damned if you know the rest. He was damned anyway. Several blatant surgeries and several answerslater spawned within him a new man. Man?...Robot? He didn\"t know anymore. Another cybernetic dream that spawned so many of his own. He knew his dream.He knew it quite well.And he lived it. But it seemed the right \"one\" had never come along. He was always destined for fortitude.Hell, he wouldn\"t live any other way. Good or bad, he just acted accordingly. But he was jealous somehow. He still had feelings at least...And that\"s to say he felt threatenedby the way of a man called Rhys. Just who the hell was he? \"Not a Vault Hunter, for sure,\\' he thought. \"She\"s killed me twiceover and never once blinked an eye at who I was...and yet, YOU...\\' She couldn\"t, WOULDN\"T, stop talking about the Hyperion bastard. Perhapshe looked too much like Jack... But he was an outsider... One of THEM, who kept causing problems. Or maybe she was just that kind of a person. He suddenly felt the protective need in his chest, to prevent, if notstop the whole thing, discreetly. But who was he? He was not hers...Nor was he a conscious thought on her mind. Rather,he was a good substitute for family, because his ownchildren..child?... \"No.\" He thought, pushing those thoughts away. \"No,\" he gruffly said aloud. Maybe he said it twice, but the message got through. He hoped. Moxxi smiled at someone, and helped carry his drunkenfriend outside. Helpless, he stared after them as they briefly exited, but like a protector,he did nothing. Maybe HE was the bastard. His robotic eye twitched, and his metal arms hurt. Perhaps he wasn\"t meant to babysit a grown woman, capable of her own decisions. \"Too late,\\' he thought solemnly. He pouted intensively, when Moxxi strolled up to his booth. She filledhis mug, beaming at him as she always did. \"Last call, Wil,\" she said nonchalantly. She paused, staring at him, and added: \"You know you\"re the only one I trust in here after dark, right?\" Unable to respond in kind, he angrily sighed aloud. \"Would you be so kind...refill?\" He asked gruffly after downing his drink in a few seconds. Moxxi looked at him knowingly. \"On the house,\" she said. She poured his second glass full. \"No trouble, sugar. Come up to the bar. Let\"s talk.\" Wilhelm paused, then responded: \"No.\" Moxxi\"s eyes widened, then she nodded in understanding. \"I\"m here for you...You know, if you need to talk.\" She glanced back over her shoulder, and seeing his blank stare,decided to move on. Too much thinking, causes sinking...and leaves much too much, unknown. For such a badass, Wilhelm could not seem to find a decent word to sayin response to her kindness. So the cyborg flatly finished his next drink,and left the bar. Little did he know that Moxxi stood from behind the counter, bearing alook of remorse and sympathy as he walked away. Later on, she would speak fondly of him whenever questioned about hisexploits, but she never told anyone how lonely he\"d looked at the lastcall that night. \"There she is!\" Moxxi greeted the two women when they entered the Up Over Bar. A few drunken patrons in the surrounding booths hollered their response. \"Whoo! Yeah!\"\"We love you, Athena!\"\"You\"re the best!\" \"Happy birthday, my shielded friend!\" The attending slacker/bartender B4R-BOT cheerfully saluted the couple and motioned at them to follow. Arms entwined, Janey and Athena approached the empty stools up front and sat down. Moxxi smiled wider, and winked at the gladiator and her partner, already pouring their drinks. She seemed excited. Athena smiled back, unsure what to expect. \"Hey, Moxxi. I brought her. She was so busy at the grinder, I almost couldn\"t pull her away,\" Janey teased, rubbing Athena\"s arm fondly. Moxxi and she shared a look, and Athena didn\"t miss the sly glint exchanged between them. \"Oh, shit. What are they planning?\\' she thought, half-amused. \"To start,\" Moxxi announced grandly, \"here\"s a toast to Elpis\"s number one hero and badass, Athena.\" She paused for effect, and handed the two women their drinks-A Maliwan Black Label for Janey, and a double violet (violent?) \"Rid Rum for the birthday girl. (The double shot was a new tradition that Axton had started since coming in for a drink on his own birthday. It was free, but no one really appreciated it. Anyway, there it was.) All who were present and with drinks in hand raised their respective glasses, waiting for Moxxi to finish her toast. \"Happy Birthday, honey. We love you!\" Moxxi inclined her head and they all drank in unison. Athena drank her shot quickly, but still managed to cough a little at its roughness. \"Ahem, thanks, guys. Heheh,\" she laughed softly, and looked over at Janey. The blonde\"s smile seemed to light up the room like the neon signs around them. \"Brighter, even,\\' Athena thought, feeling slightly dizzy from the drink in her belly. \"I\"m so happy,\" Janey exclaimed, and kissed her on the cheek. \"Me, too,\" she said somewhat shyly, and kissed her back. (Damned chairs were so far apart.) Suddenly, the gladiator felt awkward, and tried to turn the attention away from herself. \"So, Moxxi, how\"ve you been? I know I don\"t come in here often, but it\"s good to see you.\" \"Oh, honey, same ol\" thing. I have so many bars and patrons to take care of, there\"s never a dull moment.\" She replied wearily, but her eyes shone with happiness. \"I like to stay busy,\" she added, wiping off a small spill on the counter. \"That\"s good,\" Athena said. \"I\"ll be sure to have a drink next time I\"m on Pandora...\" her voice trailed off and she cautiously looked over at Janey to see her reaction. But the woman fortunately seemed unfazed by her words; Instead, she was looking at Moxxi. Trying not to smile, Janey asked, \"You think it\"s time?\" Without a word, Moxxi bent down out of sight for a moment, and returned holding a large rectangular box. \"This is it,\" she proclaimed, and hefted it up onto the counter. Her eyes twinkled. Athena just sat there, staring at it. \"Um, what is it?\" she asked, still eyeballing the object in front of her. It wasn\"t wrapped, but it seemed heavy. And expensive. It\"d have been a lie if Athena had said that she wasn\"t at least a LITTLE curious. Pressing her lips together in an attempt to hide her own excitement, Janey merely scooted the box closer to her. \"It\"s your present, silly. I wanted it to be extra-special, so I had Moxxi here call in some favors to help me.\" \"Go on, open it,\" Moxxi encouraged. Athena cleared her still-burning throat and said, \"Okay, um, thank you...\" She lifted the side of the lid and upon seeing its contents, fervently flung off the whole top. \"Oh. My. God. Is this..?\" She breathed out, and then laughed wholeheartedly as she pulled the weapon out. She turned it over in her hands and gleefully looked back and forth between the two other women. \"Is this a legendary?\" Athena asked, her eyes widening as she turned it over in her hands again to examine it further. Seemingly pleased with themselves, Janey and Moxxi glanced at one another and grinned knowingly. \"Not only that, there\"s a special, um, feature,\" Moxxi said with an all-too-familiar erotic edge in her voice. Janey cleared her throat and leaned in to whisper, \"It\"s Moxxi\"s Vibra-Pulse, but this one is...well, special. It\"s for you, especially, but...\" her voice trailed off meaningfully. Finally realizing their implications, Athena gasped and then blushed when she noticed the rounded, detachable object on the gun\"s bottom end. Embarrassed, the gladiator managed to croak out a quiet thanks. Seconds later, however, she was all business. She stared hard at Janey. \"Wanna go?\" she asked, raising her eyebrow mischievously. Speechless, Janey hid her mouth and blushed deeply. Regaining her composure, the blonde then nodded emphatically and reached out to grab Athena\"s free hand. \"Let\"s go,\" Janey replied, and the two started to leave when Athena paused to look back at a smug-looking Moxxi. \"Thank you, Moxxi.\" The woman nodded coyly in response and lifted a hand to her mouth, as if trying to contain her giant, beaming smile. They were out of earshot then, but Athena knew that smile. Moxxi kind of giggled to herself, then said after them: \"Have fun, girls.\" As they descended the stairs, Athena playfully kissed Janey on the mouth. \"Happy Birthday, to me,\\' she thought, and admired her new toy. \"TOYS,\\' Athena corrected in her head, a sly smile spreading across her face. After tonight, killing bad guys with it would just be the icing on the proverbial cake. HQ BALCONY, SANCTUARY (Three Sheets to the Wind) Leaning my elbows against the stone railing, I stared up at the pale crimson sky, and sighed audibly. My breath (and heart) felt dry and heavy. It\"d been several months since Bloodwing...well, you know. I was still drowning in my pain, and despite the attempts from my friends to help me, I just couldn\"t pull myself out. Even Zer0 had offered his help, and I knew it wasn\"t just out of duty or respect. When something bad happened, it affected all of us. I could tell I was bringing them all down, and I hated that! There were bad guys to be killed, and here I was, pouting (and drinking) my way into nothing. \"Fuck this,\" I said to no one, and pushed off the railing to stand up straighter. I succeeded at this insofar as a haggard sway, and nearly bashed the back of my skull on the stone exterior. I barely caught myself on the door frame.Sheepishly (maybe if I hadn\"t been so drunk, I might have actually been embarrassed), I leaned back and tried to steady the swirling behind my eyes. \"You okay there, killer?\" A familiar voice questioned me with concern. This was not the first (or final) time that she had come to my rescue. \"Yeah, Lil, I\"m fine. Thanks...Y\"know, I was thinking that I should quit drinking,\" I said, peeking out from under one eye at the Siren. I swore I could see her whole being light up at these words...but she was smart enough to tread with care, having tried and tried before to broach this very subject. \"In fact, I\"m sick of all of you looking at me exactly like you are now: Like you\"re terrified to hurt me, or maybe scared that I\"ll freak out...whatever it is, I\"m sick of being that guy. I miss being part of the team. I miss Bloodwing, yeah, but she would want me fucking guys up, not going in circles around them.\" Lilith must have been holding her breath, because she let out a long sigh, her eyes watery. \"Oh, Mordy, I\"m so happy! I\"ll do everything I can to get you the best guns on Pandora! It\"ll be like the Badlands all over again, except better!\" She cried out, lunging toward me in an embrace. I meekly patted her on the back, fluid motion getting the best of me. \"Sounds great, Lil. But I might need to sober up first,\" I said dizzily. She looked up at me, tears still in her eyes and grinned.\"Whatever you need, Mordy. Whatever you need.\" It always happens when you\"re not looking. You can dream close, but can you look closer? Almost. Almost. \"Almost,\" she says, until it\"s not even a word. What have you got to lose...?...Nothing..? Well, then, what are you waiting for? This is all I know; words and thoughts, Flooding through me, like lava that burns. I glare a hotter flame, and wear it like a curse. Sometimes a shield does nothing for the soul. It burns and it hurts. These thoughts, these words, that incessantly flow throughout me. They cannot be contained... I merely slash them with my sword. But still they remain gathered in my head, bound up and holding like a dam. When they weather my will to break it, the falls then flow, through the ravines of my brain. The threat of death hangs heavy and low. Through a crevasse, an incompasse. I lead to a hollow. Wanting, needing to float and flow, Yet I simply fall. Slowly and deeply, an everlasting pause, a question. Sleep is the only silence. I must land softly there. Just a dream I\"ve had, And I wake from it, alive. I imagine I\"m still the hero of my dream. I imagine to always be the hero, Graceful or not. Flagrant, not caught. Yet I imagine I\"m in way, way, too deep. I simply might have too many words. \"Fuck this gun!\" Lilith spat as she slammed her ill-gotten (shitty?) gun to the ground. \"Jeez, Lil, why\"re you actin\" so crazy?\" Mordecai observed, squinting his eye at some faraway bandits through his sniper\"s scope. \"I\"m so fucking pissed, I can\"t stand it anymore!\" She responded, as she stormed off towards the edge of the cliff. \"Fuuuuuckkkkk!\" The Siren belted out, the snapping echo of her rage bouncing off the valley below. Mordecai lowered his gun, and glided over to the distraught Siren in front of him. She was in so much pain. He could definitely feel it reeling off of her in waves: Her desire for vengeance, her raging aura matching her red locks. He needed to calm her, like so many times before this... Needed to be her rock, and her shield, now. Because her love was gone, taken from her. He just couldn\"t stand this agony. She shouldn\"t be fighting. And to be a callous asshole...Frankly, she was throwing off his aim. \"Lilith, maybe we should take a break...? I have some ale and rakk jerky, if you\"re hungry. It\"s getting dark anyway.\" He tried, and succeeded. Thinking logically, as she always did, Lilith heaved a life-weary sigh. \"Maybe you\"re right...\" She responded hesitantly, as she reached for the meat in his hand. Bloodwing Junior cooed in agreement as she started to eat, and sat down, glaring at the fire. They sat in calm silence for a long while. Suddenly, Lilith stood up, holstered her gun, and stooped low in front of Mordecai\"s face. \"Thank you,\" she whispered, leaving a kiss on his cheek. She then sat herself beside him, resting her head on his shoulder. \"You know,\" she queried thoughtfully, \"I feel like Roland is happier now...\" \"I think so, too, Lil. I really do.\" Mordecai reached down to stroke her bangs from her face, and seeing her eyes close, leaned down to give her a kiss on her forehead. \"...I really do.\" A few rakks nearby screeched as if agreement, and soon the Pandoran darkness swarmed into their makeshift haven. \"You\"re safe with me, Lil,\" Mordecai whispered. He didn\"t think she had heard him, when she replied: \"Always.\" He tugged her closer as he watched his Siren fall to languor. She didn\"t know it, but he kept watch over her all night. If nothing else, he would protect her with his life. Just as Roland had done. He felt a sense of blissful calm with this thought, and knew instantly the meaning of his whole godforsaken life: \"Protecting the ones you love is the most honorable wish you could ever ask for.\"'"
      ]
     },
     "execution_count": 34,
     "metadata": {},
     "output_type": "execute_result"
    }
   ],
   "source": [
    "text_pairs[0][1]"
   ]
  },
  {
   "cell_type": "code",
   "execution_count": 53,
   "metadata": {},
   "outputs": [],
   "source": [
    "def isolate_fw(data, f_words): #data must be json file - input must be path to file \n",
    "    function_words = []\n",
    "    \n",
    "    words = data.split() #split fanfic into words in list\n",
    "    for word in words: \n",
    "        if word in f_words: #if the word is a function word\n",
    "            function_words.append(word)\n",
    "                \n",
    "    stringed_function_words = \" \".join(function_words)\n",
    "#     fw_in_data.append(fw_in_data)\n",
    "        \n",
    "    return stringed_function_wordsata"
   ]
  },
  {
   "cell_type": "code",
   "execution_count": 54,
   "metadata": {},
   "outputs": [],
   "source": [
    "data = 'data/modified/train_pair.jsonl'\n",
    "with open('data/function_words_clean.txt', \"r\") as fw:\n",
    "    func_words = fw.read().split()"
   ]
  },
  {
   "cell_type": "code",
   "execution_count": 55,
   "metadata": {},
   "outputs": [],
   "source": [
    "fw1 = isolate_fw(text_pairs[0][0], func_words)"
   ]
  },
  {
   "cell_type": "code",
   "execution_count": 56,
   "metadata": {},
   "outputs": [],
   "source": [
    "fw2 = isolate_fw(text_pairs[0][1], func_words)"
   ]
  },
  {
   "cell_type": "code",
   "execution_count": 57,
   "metadata": {},
   "outputs": [
    {
     "data": {
      "text/plain": [
       "[[...]]"
      ]
     },
     "execution_count": 57,
     "metadata": {},
     "output_type": "execute_result"
    }
   ],
   "source": [
    "fw1"
   ]
  },
  {
   "cell_type": "code",
   "execution_count": null,
   "metadata": {},
   "outputs": [],
   "source": []
  }
 ],
 "metadata": {
  "kernelspec": {
   "display_name": "Python 3",
   "language": "python",
   "name": "python3"
  },
  "language_info": {
   "codemirror_mode": {
    "name": "ipython",
    "version": 3
   },
   "file_extension": ".py",
   "mimetype": "text/x-python",
   "name": "python",
   "nbconvert_exporter": "python",
   "pygments_lexer": "ipython3",
   "version": "3.8.5"
  }
 },
 "nbformat": 4,
 "nbformat_minor": 4
}
