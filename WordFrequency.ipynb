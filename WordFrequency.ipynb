{
 "cells": [
  {
   "cell_type": "code",
   "execution_count": 1,
   "metadata": {},
   "outputs": [],
   "source": [
    "import json\n",
    "import numpy as np\n",
    "import random\n",
    "from tqdm import tqdm\n",
    "import nltk\n",
    "from sklearn.model_selection import train_test_split\n",
    "from sklearn.feature_extraction.text import TfidfVectorizer, CountVectorizer\n",
    "from sklearn.linear_model import LogisticRegression\n",
    "import pandas as pd\n",
    "from sklearn.decomposition import PCA\n",
    "import re\n",
    "import matplotlib.pyplot as plt\n",
    "import sklearn"
   ]
  },
  {
   "cell_type": "code",
   "execution_count": 2,
   "metadata": {},
   "outputs": [],
   "source": [
    "def rand_emot():\n",
    "    e = [\"(o_o)\",\":-)\",\":P\",\":D\",\"x)\",\"ᓚᘏᗢ\",\"╯°□°）╯︵ ┻━┻\",\":)\",\n",
    "         \"*<:-)\",\"^_^\",\"(⌐■_■)\",\"¯\\_(ツ)_/¯\", \"(T_T)\",\":o\",\"OwO\",\n",
    "        \"( ͡❛ ͜ʖ ͡❛)\",\"(̶◉͛‿◉̶)\",\"( ≖.≖)\",\"(ㆆ_ㆆ)\",\"ʕ•́ᴥ•̀ʔっ\",\"( ◡́.◡̀)\",\"(^◡^ )\"]\n",
    "    return random.choice(e)\n",
    "\n",
    "def load_files():\n",
    "    text_pairs = [] #Would be nice to have as np.array\n",
    "    labels = []\n",
    "    fandom = []\n",
    "    \n",
    "    pair_id = []\n",
    "    true_id = []\n",
    "    \n",
    "    #Load truth JSON\n",
    "    for line in open('data/modified/train_truth.jsonl'):\n",
    "        d = json.loads(line.strip())\n",
    "        labels.append(int(d['same']))\n",
    "        true_id.append(d['id'])\n",
    "\n",
    "    #Load actual fanfic.\n",
    "    print(\"loading fanfic...\",rand_emot())\n",
    "    for line in tqdm(open('data/modified/train_pair.jsonl')):\n",
    "        d = json.loads(line.strip())\n",
    "        text_pairs.append(d['pair'])\n",
    "        fandom.append(d['fandoms'])\n",
    "        pair_id.append(d['id'])\n",
    "\n",
    "    print(\"done loading\",rand_emot())\n",
    "    \n",
    "    return text_pairs, labels, fandom, pair_id, true_id"
   ]
  },
  {
   "cell_type": "code",
   "execution_count": 3,
   "metadata": {},
   "outputs": [
    {
     "name": "stderr",
     "output_type": "stream",
     "text": [
      "332it [00:00, 1663.27it/s]"
     ]
    },
    {
     "name": "stdout",
     "output_type": "stream",
     "text": [
      "loading fanfic... *<:-)\n"
     ]
    },
    {
     "name": "stderr",
     "output_type": "stream",
     "text": [
      "1578it [00:00, 1747.31it/s]"
     ]
    },
    {
     "name": "stdout",
     "output_type": "stream",
     "text": [
      "done loading ( ≖.≖)\n"
     ]
    },
    {
     "name": "stderr",
     "output_type": "stream",
     "text": [
      "\n"
     ]
    }
   ],
   "source": [
    "text_pairs, labels, fandom, pair_id, true_id = load_files()"
   ]
  },
  {
   "cell_type": "code",
   "execution_count": 4,
   "metadata": {},
   "outputs": [],
   "source": [
    "def word_freq(text_pair):\n",
    "    fdist0 = nltk.FreqDist(text_pair[0])\n",
    "    fdist1 = nltk.FreqDist(text_pair[1])\n",
    "    \n",
    "    return [fdist0, fdist1]\n",
    "\n",
    "def word_freq_single(text):\n",
    "    fdist = nltk.FreqDist(text)\n",
    "    return fdist\n",
    "\n",
    "def tokenize(text_pair):\n",
    "    return [nltk.word_tokenize(text_pair[0]),nltk.word_tokenize(text_pair[1])]\n",
    "\n",
    "def vector_freq_dist(freq_dists): #I don't think this works...\n",
    "    return [list(freq_dists[0].values()), list(freq_dists[1].values())]\n",
    "\n",
    "def cosine_sim(a, b):\n",
    "    return np.dot(a, b) / (np.linalg.norm(a) * np.linalg.norm(b))"
   ]
  },
  {
   "cell_type": "code",
   "execution_count": 5,
   "metadata": {},
   "outputs": [],
   "source": [
    "def create_corpus(text_pairs):\n",
    "    '''input all text pairs to create a corpus'''\n",
    "    corpus = [x[i] for x in text_pairs for i in range(len(x))]\n",
    "    return corpus\n",
    "\n",
    "def fit_tfidf(corpus):\n",
    "    vectorizer = TfidfVectorizer()\n",
    "    print(\"training vectorizer...\",rand_emot())\n",
    "    X = vectorizer.fit_transform(corpus)\n",
    "    print(\"vectorizer fit!\", rand_emot())\n",
    "    \n",
    "    \n",
    "    df = pd.DataFrame(X[0].T.todense(), index=vectorizer.get_feature_names(), columns=[\"TF-IDF\"])\n",
    "    df = df.sort_values('TF-IDF', ascending=False)\n",
    "    \n",
    "    return X, df"
   ]
  },
  {
   "cell_type": "code",
   "execution_count": 6,
   "metadata": {},
   "outputs": [],
   "source": [
    "corpus = create_corpus(text_pairs)"
   ]
  },
  {
   "cell_type": "code",
   "execution_count": 7,
   "metadata": {},
   "outputs": [
    {
     "name": "stdout",
     "output_type": "stream",
     "text": [
      "training vectorizer... (T_T)\n",
      "vectorizer fit! :D\n"
     ]
    }
   ],
   "source": [
    "#tf-idf on the raw text. Likely not useful, as you can see, it is sesnitive to the fandom.\n",
    "raw_tfidf, tfidf_df = fit_tfidf(corpus)"
   ]
  },
  {
   "cell_type": "code",
   "execution_count": 8,
   "metadata": {},
   "outputs": [
    {
     "data": {
      "text/html": [
       "<div>\n",
       "<style scoped>\n",
       "    .dataframe tbody tr th:only-of-type {\n",
       "        vertical-align: middle;\n",
       "    }\n",
       "\n",
       "    .dataframe tbody tr th {\n",
       "        vertical-align: top;\n",
       "    }\n",
       "\n",
       "    .dataframe thead th {\n",
       "        text-align: right;\n",
       "    }\n",
       "</style>\n",
       "<table border=\"1\" class=\"dataframe\">\n",
       "  <thead>\n",
       "    <tr style=\"text-align: right;\">\n",
       "      <th></th>\n",
       "      <th>TF-IDF</th>\n",
       "    </tr>\n",
       "  </thead>\n",
       "  <tbody>\n",
       "    <tr>\n",
       "      <th>the</th>\n",
       "      <td>0.389299</td>\n",
       "    </tr>\n",
       "    <tr>\n",
       "      <th>to</th>\n",
       "      <td>0.295670</td>\n",
       "    </tr>\n",
       "    <tr>\n",
       "      <th>kuroko</th>\n",
       "      <td>0.283424</td>\n",
       "    </tr>\n",
       "    <tr>\n",
       "      <th>judgement</th>\n",
       "      <td>0.247891</td>\n",
       "    </tr>\n",
       "    <tr>\n",
       "      <th>was</th>\n",
       "      <td>0.184794</td>\n",
       "    </tr>\n",
       "    <tr>\n",
       "      <th>and</th>\n",
       "      <td>0.182388</td>\n",
       "    </tr>\n",
       "    <tr>\n",
       "      <th>it</th>\n",
       "      <td>0.182330</td>\n",
       "    </tr>\n",
       "    <tr>\n",
       "      <th>that</th>\n",
       "      <td>0.172474</td>\n",
       "    </tr>\n",
       "    <tr>\n",
       "      <th>she</th>\n",
       "      <td>0.169618</td>\n",
       "    </tr>\n",
       "    <tr>\n",
       "      <th>her</th>\n",
       "      <td>0.146488</td>\n",
       "    </tr>\n",
       "  </tbody>\n",
       "</table>\n",
       "</div>"
      ],
      "text/plain": [
       "             TF-IDF\n",
       "the        0.389299\n",
       "to         0.295670\n",
       "kuroko     0.283424\n",
       "judgement  0.247891\n",
       "was        0.184794\n",
       "and        0.182388\n",
       "it         0.182330\n",
       "that       0.172474\n",
       "she        0.169618\n",
       "her        0.146488"
      ]
     },
     "execution_count": 8,
     "metadata": {},
     "output_type": "execute_result"
    }
   ],
   "source": [
    "tfidf_df.head(10)"
   ]
  },
  {
   "cell_type": "code",
   "execution_count": 9,
   "metadata": {},
   "outputs": [],
   "source": [
    "#Attempting to perform tf-idf on only symbols.\n",
    "def isolate_symbols(corpus):\n",
    "    #Add \\d to omit digits too.\n",
    "    sym_corpus = []\n",
    "    for text in corpus:\n",
    "        sym_corpus.append(' '.join(re.findall(\"[^a-zA-Z\\s]+\", text)))\n",
    "    return sym_corpus\n",
    "\n",
    "symbols = isolate_symbols(corpus)\n",
    "\n",
    "#Okay, tf-idf doesn't work with symbols. I'll convert them to made-up words"
   ]
  },
  {
   "cell_type": "code",
   "execution_count": 10,
   "metadata": {},
   "outputs": [
    {
     "data": {
      "text/plain": [
       "'. \" , . , , . . \" . \" ?! ?! , - !\" , . \" . . - .\" . , . , . , . - - . \" . , . , , . ... , . , . , . \" , . , . \" \" . \" , \" . \" , - , \" . \". ? , .\" , . , , , ... ... . \" . , \" . , ?\" , \" . , . \" , , \" . ... . \" . , . , \" . , ? , \" ! ?\" , . , , . \" ...\" , . \"... ! , ? , \" \" . , . ... !\" , . \" ? .\" , , . , ... , . . \" , ?\" , \" . \" -! , . \" , , -!\" . . - . . \" , . \" \" , . , . \" . \" , \" . , . \" , \" . , \" - . - . ... . \" ... \" . , , . , , - , . , . , . , , \" . , , . . \" - . ?! ?!\" . . \" , . , \" , \" . ... ? , \" . \" - . ?! ?!\" . , . ... . , , . ... . \" , . , , - . , , - - . , , , . , . - \" , . \" . , , ? ?\" , , \" . \" , \" . , . , .\" , . , , . , , , . , . , , \" . \" . \" , ? , \" .\" . \" \" \", \" . \" !\" \" . \" , ? \" - ? ?\" . ... \" \" . , . , - , \" \" . \" - , !\" \"... , ?\" . . , . ... \" . ... \" ? \"... , . , \" .\" \" \" !\" - , . \" . \" , , . \" - \" . \" . , , \" . , , - \" \", \" . , \" , \" \" . \" . , . \" , . . \" , . . \" \" !\" , . , . \"... ?\" , . \" ... , . . \" ... \" ! , ! !\" \"... . , \" , ?\" . \" , \" . . \" . , . \" ... \" \" , . ... . ... \" .\" , . , . . , . . . \" \" , \" . . \" . , ?\" , . , . . ... . \" , ...\" , . , , - - . \"... ?\" \" \" , ? , \" . \" . \" , \" ?\" ... . \" ! !\" , , , ? \" ?\" , , . \" \" \" . ... . , , ...\" , . \" , . , ?\" , . \" - , . ?\" , . \" , . \" - , \" . , . . \" \" , ?\" , . \" \" , . \" - \" .\" , , . \" . \" . , ...?\" \" . . , \" .\" . ? , , . , , . , , . ... \" . , . , - - , . , , ... \" . , , . , , . , \" . , . . . , , . , . , , \" . , , \" . , \" \" ... . . . , . . \" \" .\" , , . , \" . \" \" ,\" , , \" . .\" , , \" - . , . , . . , \" , \" . , , . \" ? , , ?\" \" , . ... , \" .\" \" \" . , \" . ... .\" . \" . , ... \" \" \" , . \" , .\" \" ? ?\" . . \" . , . \" \" . 7 .\" \"... \" ?\" \" . . ... , .\" , . \" . \" , ?\" . \" , .\" , ? , \" . . , ... \" , . . \" \" \" , \" 13 , -\" \" 13 ?\" . , . . \" \" .\" \" . \" , .\" , . \" , \" . , , \" . \" . , \" , , \" ...\" \" ? \" ?\" . \" .\" . / : , \" 3 . , ? , ? . \" - \" \" . / : . & ! , , . - \" , . , - . , . . \" , \" . , , . , , . \" . , . , , - . , , - , . ... . . , . , . . . , . . .'"
      ]
     },
     "execution_count": 10,
     "metadata": {},
     "output_type": "execute_result"
    }
   ],
   "source": [
    "symbols[0]"
   ]
  },
  {
   "cell_type": "code",
   "execution_count": 11,
   "metadata": {},
   "outputs": [],
   "source": [
    "#Whack function that converts symbols to letters...\n",
    "def symbol2word(symbols):\n",
    "    '''Takes in set of symbols and convert them to unique words'''\n",
    "    symbols = list(symbols)\n",
    "    sym2word = {}\n",
    "    chars = [0,0,0]\n",
    "    \n",
    "    for i in range(len(symbols)):\n",
    "        chars[2] = add_one(chars[2])\n",
    "        \n",
    "        if chars[2] % 58 == 0:\n",
    "            chars[1] = add_one(chars[1])\n",
    "            chars[2] = 0\n",
    "        \n",
    "        if chars[1] % 58 == 0 and chars[1] != 0:\n",
    "            chars[0] = add_one(chars[0])\n",
    "            chars[1] = 0\n",
    "        \n",
    "        \n",
    "        sym2word[symbols[i]] = 'XX'+chr(chars[0]+65)+chr(chars[1]+65)+chr(chars[2]+65)\n",
    "    \n",
    "    return sym2word\n",
    "\n",
    "def add_one(x):\n",
    "    if x == 91-66:\n",
    "        return x + 7\n",
    "    return x + 1\n",
    "\n",
    "def replace_symbols(symwords, corpus):\n",
    "    for i, text in tqdm(enumerate(corpus)):\n",
    "        text = nltk.word_tokenize(text)\n",
    "        text = replace(text, symwords)\n",
    "        corpus[i] = text\n",
    "    return corpus\n",
    "\n",
    "def replace(tokens, dictionary):\n",
    "    return [dictionary.get(item, item) for item in tokens]\n",
    "\n",
    "def chunk_replace(corpus):\n",
    "    start = 0\n",
    "    for i in range(0,int(len(corpus)/100),100):\n",
    "        corpus[start:i] = replace_symbols(symwords, corpus[start:i])\n",
    "        start = i\n",
    "    corpus[start:] = replace_symbols(symwords, corpus[start:])\n",
    "    \n",
    "    return corpus"
   ]
  },
  {
   "cell_type": "code",
   "execution_count": 12,
   "metadata": {},
   "outputs": [],
   "source": [
    "#Convert symbols to words\n",
    "symwords = symbol2word(set(symbols))\n",
    "\n",
    "#DESTROY corpus by replacing symbols with their word.\n",
    "#corpus = replace_symbols(symwords, corpus)"
   ]
  },
  {
   "cell_type": "code",
   "execution_count": 13,
   "metadata": {},
   "outputs": [
    {
     "name": "stdout",
     "output_type": "stream",
     "text": [
      "joining corpus... (̶◉͛‿◉̶)\n",
      "training vectorizer... *<:-)\n"
     ]
    },
    {
     "ename": "ValueError",
     "evalue": "empty vocabulary; perhaps the documents only contain stop words",
     "output_type": "error",
     "traceback": [
      "\u001b[1;31m---------------------------------------------------------------------------\u001b[0m",
      "\u001b[1;31mValueError\u001b[0m                                Traceback (most recent call last)",
      "\u001b[1;32m<ipython-input-13-2cc67c4263fb>\u001b[0m in \u001b[0;36m<module>\u001b[1;34m\u001b[0m\n\u001b[0;32m      1\u001b[0m \u001b[0mprint\u001b[0m\u001b[1;33m(\u001b[0m\u001b[1;34m\"joining corpus...\"\u001b[0m\u001b[1;33m,\u001b[0m\u001b[0mrand_emot\u001b[0m\u001b[1;33m(\u001b[0m\u001b[1;33m)\u001b[0m\u001b[1;33m)\u001b[0m\u001b[1;33m\u001b[0m\u001b[1;33m\u001b[0m\u001b[0m\n\u001b[1;32m----> 2\u001b[1;33m \u001b[0mtfidf_sym\u001b[0m\u001b[1;33m,\u001b[0m \u001b[0msym_df\u001b[0m \u001b[1;33m=\u001b[0m \u001b[0mfit_tfidf\u001b[0m\u001b[1;33m(\u001b[0m\u001b[1;33m[\u001b[0m\u001b[1;34m' '\u001b[0m\u001b[1;33m.\u001b[0m\u001b[0mjoin\u001b[0m\u001b[1;33m(\u001b[0m\u001b[0mx\u001b[0m\u001b[1;33m)\u001b[0m \u001b[1;32mfor\u001b[0m \u001b[0mx\u001b[0m \u001b[1;32min\u001b[0m \u001b[0mcorpus\u001b[0m\u001b[1;33m]\u001b[0m\u001b[1;33m)\u001b[0m\u001b[1;33m\u001b[0m\u001b[1;33m\u001b[0m\u001b[0m\n\u001b[0m",
      "\u001b[1;32m<ipython-input-5-f5175be57f75>\u001b[0m in \u001b[0;36mfit_tfidf\u001b[1;34m(corpus)\u001b[0m\n\u001b[0;32m      7\u001b[0m     \u001b[0mvectorizer\u001b[0m \u001b[1;33m=\u001b[0m \u001b[0mTfidfVectorizer\u001b[0m\u001b[1;33m(\u001b[0m\u001b[1;33m)\u001b[0m\u001b[1;33m\u001b[0m\u001b[1;33m\u001b[0m\u001b[0m\n\u001b[0;32m      8\u001b[0m     \u001b[0mprint\u001b[0m\u001b[1;33m(\u001b[0m\u001b[1;34m\"training vectorizer...\"\u001b[0m\u001b[1;33m,\u001b[0m\u001b[0mrand_emot\u001b[0m\u001b[1;33m(\u001b[0m\u001b[1;33m)\u001b[0m\u001b[1;33m)\u001b[0m\u001b[1;33m\u001b[0m\u001b[1;33m\u001b[0m\u001b[0m\n\u001b[1;32m----> 9\u001b[1;33m     \u001b[0mX\u001b[0m \u001b[1;33m=\u001b[0m \u001b[0mvectorizer\u001b[0m\u001b[1;33m.\u001b[0m\u001b[0mfit_transform\u001b[0m\u001b[1;33m(\u001b[0m\u001b[0mcorpus\u001b[0m\u001b[1;33m)\u001b[0m\u001b[1;33m\u001b[0m\u001b[1;33m\u001b[0m\u001b[0m\n\u001b[0m\u001b[0;32m     10\u001b[0m     \u001b[0mprint\u001b[0m\u001b[1;33m(\u001b[0m\u001b[1;34m\"vectorizer fit!\"\u001b[0m\u001b[1;33m,\u001b[0m \u001b[0mrand_emot\u001b[0m\u001b[1;33m(\u001b[0m\u001b[1;33m)\u001b[0m\u001b[1;33m)\u001b[0m\u001b[1;33m\u001b[0m\u001b[1;33m\u001b[0m\u001b[0m\n\u001b[0;32m     11\u001b[0m \u001b[1;33m\u001b[0m\u001b[0m\n",
      "\u001b[1;32mc:\\python37\\lib\\site-packages\\sklearn\\feature_extraction\\text.py\u001b[0m in \u001b[0;36mfit_transform\u001b[1;34m(self, raw_documents, y)\u001b[0m\n\u001b[0;32m   1839\u001b[0m         \"\"\"\n\u001b[0;32m   1840\u001b[0m         \u001b[0mself\u001b[0m\u001b[1;33m.\u001b[0m\u001b[0m_check_params\u001b[0m\u001b[1;33m(\u001b[0m\u001b[1;33m)\u001b[0m\u001b[1;33m\u001b[0m\u001b[1;33m\u001b[0m\u001b[0m\n\u001b[1;32m-> 1841\u001b[1;33m         \u001b[0mX\u001b[0m \u001b[1;33m=\u001b[0m \u001b[0msuper\u001b[0m\u001b[1;33m(\u001b[0m\u001b[1;33m)\u001b[0m\u001b[1;33m.\u001b[0m\u001b[0mfit_transform\u001b[0m\u001b[1;33m(\u001b[0m\u001b[0mraw_documents\u001b[0m\u001b[1;33m)\u001b[0m\u001b[1;33m\u001b[0m\u001b[1;33m\u001b[0m\u001b[0m\n\u001b[0m\u001b[0;32m   1842\u001b[0m         \u001b[0mself\u001b[0m\u001b[1;33m.\u001b[0m\u001b[0m_tfidf\u001b[0m\u001b[1;33m.\u001b[0m\u001b[0mfit\u001b[0m\u001b[1;33m(\u001b[0m\u001b[0mX\u001b[0m\u001b[1;33m)\u001b[0m\u001b[1;33m\u001b[0m\u001b[1;33m\u001b[0m\u001b[0m\n\u001b[0;32m   1843\u001b[0m         \u001b[1;31m# X is already a transformed view of raw_documents so\u001b[0m\u001b[1;33m\u001b[0m\u001b[1;33m\u001b[0m\u001b[1;33m\u001b[0m\u001b[0m\n",
      "\u001b[1;32mc:\\python37\\lib\\site-packages\\sklearn\\feature_extraction\\text.py\u001b[0m in \u001b[0;36mfit_transform\u001b[1;34m(self, raw_documents, y)\u001b[0m\n\u001b[0;32m   1197\u001b[0m \u001b[1;33m\u001b[0m\u001b[0m\n\u001b[0;32m   1198\u001b[0m         vocabulary, X = self._count_vocab(raw_documents,\n\u001b[1;32m-> 1199\u001b[1;33m                                           self.fixed_vocabulary_)\n\u001b[0m\u001b[0;32m   1200\u001b[0m \u001b[1;33m\u001b[0m\u001b[0m\n\u001b[0;32m   1201\u001b[0m         \u001b[1;32mif\u001b[0m \u001b[0mself\u001b[0m\u001b[1;33m.\u001b[0m\u001b[0mbinary\u001b[0m\u001b[1;33m:\u001b[0m\u001b[1;33m\u001b[0m\u001b[1;33m\u001b[0m\u001b[0m\n",
      "\u001b[1;32mc:\\python37\\lib\\site-packages\\sklearn\\feature_extraction\\text.py\u001b[0m in \u001b[0;36m_count_vocab\u001b[1;34m(self, raw_documents, fixed_vocab)\u001b[0m\n\u001b[0;32m   1127\u001b[0m             \u001b[0mvocabulary\u001b[0m \u001b[1;33m=\u001b[0m \u001b[0mdict\u001b[0m\u001b[1;33m(\u001b[0m\u001b[0mvocabulary\u001b[0m\u001b[1;33m)\u001b[0m\u001b[1;33m\u001b[0m\u001b[1;33m\u001b[0m\u001b[0m\n\u001b[0;32m   1128\u001b[0m             \u001b[1;32mif\u001b[0m \u001b[1;32mnot\u001b[0m \u001b[0mvocabulary\u001b[0m\u001b[1;33m:\u001b[0m\u001b[1;33m\u001b[0m\u001b[1;33m\u001b[0m\u001b[0m\n\u001b[1;32m-> 1129\u001b[1;33m                 raise ValueError(\"empty vocabulary; perhaps the documents only\"\n\u001b[0m\u001b[0;32m   1130\u001b[0m                                  \" contain stop words\")\n\u001b[0;32m   1131\u001b[0m \u001b[1;33m\u001b[0m\u001b[0m\n",
      "\u001b[1;31mValueError\u001b[0m: empty vocabulary; perhaps the documents only contain stop words"
     ]
    }
   ],
   "source": [
    "#print(\"joining corpus...\",rand_emot())\n",
    "#tfidf_sym, sym_df = fit_tfidf([' '.join(x) for x in corpus])"
   ]
  },
  {
   "cell_type": "code",
   "execution_count": 14,
   "metadata": {},
   "outputs": [
    {
     "ename": "NameError",
     "evalue": "name 'sym_df' is not defined",
     "output_type": "error",
     "traceback": [
      "\u001b[1;31m---------------------------------------------------------------------------\u001b[0m",
      "\u001b[1;31mNameError\u001b[0m                                 Traceback (most recent call last)",
      "\u001b[1;32m<ipython-input-14-48356c0055be>\u001b[0m in \u001b[0;36m<module>\u001b[1;34m\u001b[0m\n\u001b[1;32m----> 1\u001b[1;33m \u001b[0msym_df\u001b[0m\u001b[1;33m.\u001b[0m\u001b[0mhead\u001b[0m\u001b[1;33m(\u001b[0m\u001b[1;36m10\u001b[0m\u001b[1;33m)\u001b[0m\u001b[1;33m\u001b[0m\u001b[1;33m\u001b[0m\u001b[0m\n\u001b[0m",
      "\u001b[1;31mNameError\u001b[0m: name 'sym_df' is not defined"
     ]
    }
   ],
   "source": [
    "#sym_df.head(10)"
   ]
  },
  {
   "cell_type": "code",
   "execution_count": 16,
   "metadata": {},
   "outputs": [
    {
     "data": {
      "text/plain": [
       "('\" .\" . \" \" ,\" , . . , . , \" . . , , . , . . \" \" ,\" \" . . \" .\" \" \" .\" . \" .\" / : . \" ! , \" . , . . , . , , . , . \" ,\" . , . , . \" ?\" , . . \" , ,\" . \" .\" \" ?\" , . . \" \" ,\" , . \" 3 . .\" \" ?\" , . , . \" , .\" . \" \" .\" \" , \" !\" . \" \" . \" . . , , . , , , . - , . \" !\" . \" \" ,\" . . . \" , ? \" ?\" . \" .\" . \" ?\" , . . \" ! \" !\" . \" \" \" !\" . \" ,\" , . , . \" ?\" . \" ,\" . \" .\" \" . . . , . . \" ,\" . \" .\" . \" \" . . .\" . \" \" , . . . . .\" \" . . ... \" .\" \" ...\" . \" .\" . . . \" ?\" . \" ! \" . \" .\" \" \" , . .\" . . , . . \" \" ! ! .\" , . , . . , . . . . . , . . , . , , , . . \" . \" ,\" . \" ,\" . \" ?\" \" . . \" . \" .\" . , . \" . , , . , . . \" ?\" . , . \" .\" \" .\" \" , . .\" . \" . , .\" \" ?\" , . \" , \" .\" \" ?\" , . . , . \" ,\" . . \" ,\" . . , . . , . , , , \" . , ... , . * * / : . ! . , , . , . . , . . , . . . . . , . , . \" ?\" . . , . . , , . \" , . , . \" \" !\" . , . . , . , . . , . , , . \" , , . , 12 , . , . , . , . , . \" , .\" - . , . . \" , ,\" - , . \" \" .\" , - . , . \" \" ,\" . - , . \" , . , .\" \" ?\" , . \" \" , . . .\" \" ?\" \" , , . , . .\" \" !\" , . . \" \" , ,\" , . \" \" .\" \" ?\" , , . . \" \" , .\" \" ?\" , . \" \" ?\" \" . \" ; , . ; . , . ; \" , - . \" ,\" , . \" \" , ; . \" . . . , . \" ?\" . . \" , . \" , . . , . \" !\" . \" , ,\" , . \" !\" . \" ?\" \" - .\" , . , . \" !\" , . \" ,\" , . \" \" ?\" , . . , . , , . \" . . \" .\" \" \" ,\" . , . \" !\" . . . , . , . , . . , , \" . . . , . . , . , . . . . \" ?\" . . \" .\" / : . :) . . , . . , \" . , . \" ; , . . . , . , . . \" . \" ? \" ? \" . , . \" . , . , . . , . , . . , , . . . \" . ?\" . \" ,\" , . \" . \" .\" . . \" , , .\" . . , . , . \" . . , . . - - . , . ? , . \" . \" . , . . , . . , . \" , ?\" . \" \" .\" \" . ?\" . ; . , . , . \" \" , . , .\" , . \" ?\" , \" . . \" ?\" . , . \" ,\" , . \" .\" \" ?\" \" \" , . \" . ? \" . , . \" .\"',\n",
       " ', . - - . , \" ?\" , \" \". , . \" ,\" , . , . \" ?\" . \" ?\" \" , . . - , \" \" \". ,\" . \" , \" ,\" . \" . - , \" . \" . \" \" ,\" . \" . , , . , . . \" \" ,\" . . \" , ,\" , . \" , , ?\" \" . \" \" \" . ,\" . \" \" ,\" . \" ?\" , . \" . . \" . , ,\" . , . \" . . \" . , . , \" . 86, . 86. , . 86 . , - . . . \" , . . , - \" , - . . - 86. , . . , , . \" , , \" ,\" . , . , \" . , . , . \" ... - , \" ?\" . \" ,\" , . \" . \" - , \" ...,\" , . . \" 30 . ,\" . \" \" .\" \" . , . . , , . \" , . ?\" . \" , \" , . \" ... - , ,\" . \" \" .\" \" . \" \" , .\" , . \" , ,\" , . \" ? , ...?\" \" , \" ,\" . . ? ? . \" ? , - , . , \" \" . \" - , ?\" . \" ,\" , \" , \" . \" .\" , . , , . , . \" , ?\" . \" , \" ,\" . \" , ? , , . , \" - , \" \" \" \". , . \" , . , \" . . . \" \" , \" . ? . , . , - . , . \" . \" , , . , . . \" , \" ,\" . \" , . , . . , . . , , . , . \" ? \" ,\" , . . \" , \" ,\" , . - / , . . - \" \" . , , ? , \" . , . . , \" . . , ? . . , , , . , , . , \" , ? , . , , . . . , . , . . \" - , \" ! ? , ,\" . , . . . , . \" , - , ?\" , , . \" \" , \" ,\" . \" , \" - ! \" ! \" !\" . . \" . , . , ,\" , \" . . \" - , ? - ...\" . . \" \" \" , \" ? 86!\" . \" , \" ! \" ! \" ! ?\" . . \" ! - . , . \" , \" ! , ! - , . ?\" \" , . , , . \" - , \" . ?\" . \" , - , ,\" . \" , ,\" . \" , , . ?\" . \" , ?\" , \" . \" ... ,\" . \" \" , ,\" . , ? . \" - \" , \" , , \" ...\" . . \" - , . \" - , ?\" , . \" , \" , . . \" - \" . , ?\" \" \" , ?\" . \" . , - ,\" . \" , - . ,\" , , . \" ... \" , \" ,\" , \" . \" , . , \" ?\" . . , \" . , \" . , , . \" , , \" \" . \" , . , , . , \" . \" , ,\" , . \" . . . \" . - ?\" , . \" , . . . , , ,\" . . \" . ,\" , , . , , . . . ! , . , . . . , - . , . - , - . . , \" , . , , . . - ? , \" . - . . . , . . , . . \" , . , . , , , , . , , 4 .')"
      ]
     },
     "execution_count": 16,
     "metadata": {},
     "output_type": "execute_result"
    }
   ],
   "source": [
    "key_list = list(symwords.keys())\n",
    "val_list = list(symwords.values())\n",
    "\n",
    "key_list[val_list.index('XXADM')], key_list[val_list.index('XXAAE')]"
   ]
  },
  {
   "cell_type": "code",
   "execution_count": 17,
   "metadata": {},
   "outputs": [],
   "source": [
    "## POS Tagging and ngrams\n",
    "tokens = nltk.word_tokenize(corpus[0])\n",
    "pos_tags = nltk.pos_tag(tokens)\n",
    "pos_bigrams = nltk.bigrams(pos_tags)"
   ]
  },
  {
   "cell_type": "code",
   "execution_count": 18,
   "metadata": {},
   "outputs": [],
   "source": [
    "def compute_lix(text):\n",
    "    tokens = nltk.word_tokenize(text)\n",
    "    splt = text.split()\n",
    "    o = len(splt)+1\n",
    "    p = len([x for x in tokens if x=='.'])+1\n",
    "    l = len([x for x in tokens if len(x)>6])+1\n",
    "    \n",
    "    return (o/p)+((l*100)/o)"
   ]
  },
  {
   "cell_type": "code",
   "execution_count": 19,
   "metadata": {},
   "outputs": [
    {
     "name": "stdout",
     "output_type": "stream",
     "text": [
      "29.910954831914932\n",
      "30.709476503232075\n",
      "34.64747315241397\n",
      "31.16576505295295\n",
      "35.736950980754315\n",
      "27.826830313919487\n",
      "23.657931484369428\n",
      "30.435502148277408\n",
      "29.67444070920108\n",
      "27.62315961549868\n"
     ]
    }
   ],
   "source": [
    "for text in corpus[:10]:\n",
    "    print(compute_lix(text))"
   ]
  },
  {
   "cell_type": "code",
   "execution_count": 20,
   "metadata": {},
   "outputs": [],
   "source": [
    "def tokenize_no_symbols(text):\n",
    "    return nltk.word_tokenize(re.sub(r'[^\\w]', ' ', text))\n",
    "\n",
    "def get_fdist_yule(text):\n",
    "    text = tokenize_no_symbols(text)\n",
    "    fdist = word_freq_single(text)\n",
    "    return fdist\n",
    "        \n",
    "def get_num_unique_words(text):\n",
    "    text = tokenize_no_symbols(text.lower())\n",
    "    return len(set(text))\n",
    "        \n",
    "def yules_k(text): #Wrong implementation, forget this function.\n",
    "    C = 10000\n",
    "    splt = text.split()\n",
    "    N = len(splt)\n",
    "    Vn = get_num_unique_words(text)\n",
    "    fdist = get_fdist_yule(text)\n",
    "    max_word = fdist.most_common()[0][1]\n",
    "    \n",
    "    var = 0\n",
    "    \n",
    "    for m in range(max_word):\n",
    "        Vmn = len([x for x in fdist if fdist[x]==m])\n",
    "        mNs = np.power(m/N,2)\n",
    "        \n",
    "        var += Vmn*mNs\n",
    "    \n",
    "    return C*(-1/N+var)\n",
    "\n",
    "\n",
    "#Stolen code below\n",
    "import collections\n",
    "import re\n",
    "\n",
    "def tokenize(s):\n",
    "    tokens = re.split(r\"[^0-9A-Za-z\\-'_]+\", s)\n",
    "    return tokens\n",
    "\n",
    "def get_yules(s):\n",
    "    \"\"\" \n",
    "    Returns a tuple with Yule's K and Yule's I.\n",
    "    (cf. Oakes, M.P. 1998. Statistics for Corpus Linguistics.\n",
    "    International Journal of Applied Linguistics, Vol 10 Issue 2)\n",
    "    In production this needs exception handling.\n",
    "    \"\"\"\n",
    "    tokens = tokenize(s)\n",
    "    token_counter = collections.Counter(tok.upper() for tok in tokens)\n",
    "    m1 = sum(token_counter.values())\n",
    "    m2 = sum([freq ** 2 for freq in token_counter.values()])\n",
    "    i = (m1*m1) / (m2-m1)\n",
    "    k = 1/i * 10000\n",
    "    #The larger the K, the easier the text\n",
    "    #The larger the I, the more difficult text\n",
    "    #Both measure vocabulary richness\n",
    "    return (k, i)\n",
    "\n",
    "#Cite the function: https://gist.github.com/magnusnissel/d9521cb78b9ae0b2c7d6"
   ]
  },
  {
   "cell_type": "code",
   "execution_count": 21,
   "metadata": {},
   "outputs": [],
   "source": [
    "#I am not 100% sure I implemented Yule's K the right way.\n"
   ]
  },
  {
   "cell_type": "code",
   "execution_count": 22,
   "metadata": {},
   "outputs": [
    {
     "data": {
      "text/plain": [
       "array([[0, 0, 0, ..., 0, 0, 0],\n",
       "       [0, 0, 0, ..., 0, 0, 0],\n",
       "       [0, 0, 0, ..., 0, 0, 0],\n",
       "       ...,\n",
       "       [0, 0, 0, ..., 0, 0, 0],\n",
       "       [0, 0, 0, ..., 0, 0, 0],\n",
       "       [0, 0, 0, ..., 0, 0, 0]], dtype=int64)"
      ]
     },
     "execution_count": 22,
     "metadata": {},
     "output_type": "execute_result"
    }
   ],
   "source": [
    "#We can also use CountVectorizer\n",
    "c_vec = CountVectorizer()\n",
    "cX = c_vec.fit_transform(corpus)\n",
    "cX.toarray()"
   ]
  },
  {
   "cell_type": "code",
   "execution_count": 23,
   "metadata": {},
   "outputs": [
    {
     "data": {
      "text/plain": [
       "array([[0., 0., 0., ..., 0., 0., 0.],\n",
       "       [0., 0., 0., ..., 0., 0., 0.],\n",
       "       [0., 0., 0., ..., 0., 0., 0.],\n",
       "       ...,\n",
       "       [0., 0., 0., ..., 0., 0., 0.],\n",
       "       [0., 0., 0., ..., 0., 0., 0.],\n",
       "       [0., 0., 0., ..., 0., 0., 0.]])"
      ]
     },
     "execution_count": 23,
     "metadata": {},
     "output_type": "execute_result"
    }
   ],
   "source": [
    "#Hmmm... \n",
    "tfidf_vec = TfidfVectorizer()\n",
    "tfidfX = tfidf_vec.fit_transform(corpus)\n",
    "tfidfX.toarray()"
   ]
  },
  {
   "cell_type": "code",
   "execution_count": 24,
   "metadata": {},
   "outputs": [
    {
     "data": {
      "text/plain": [
       "1183"
      ]
     },
     "execution_count": 24,
     "metadata": {},
     "output_type": "execute_result"
    }
   ],
   "source": [
    "logreg = LogisticRegression(max_iter=1000)\n",
    "cx_arr = cX.toarray()\n",
    "cvec_pairs = [np.concatenate([cx_arr[x],cx_arr[x+1]]) for x in range(0,len(cx_arr),2)]\n",
    "\n",
    "cvec_train, cvec_test, labels_train, labels_test = train_test_split(cvec_pairs, labels)\n",
    "len(cvec_train)"
   ]
  },
  {
   "cell_type": "code",
   "execution_count": 25,
   "metadata": {},
   "outputs": [
    {
     "data": {
      "text/plain": [
       "LogisticRegression(max_iter=1000)"
      ]
     },
     "execution_count": 25,
     "metadata": {},
     "output_type": "execute_result"
    }
   ],
   "source": [
    "#Slow!\n",
    "logreg.fit(cvec_train, labels_train)"
   ]
  },
  {
   "cell_type": "code",
   "execution_count": 26,
   "metadata": {},
   "outputs": [
    {
     "data": {
      "text/plain": [
       "0.6329113924050633"
      ]
     },
     "execution_count": 26,
     "metadata": {},
     "output_type": "execute_result"
    }
   ],
   "source": [
    "#62% accuracy just from word freq on raw text.\n",
    "logreg.score(cvec_test, labels_test)"
   ]
  },
  {
   "cell_type": "code",
   "execution_count": 27,
   "metadata": {},
   "outputs": [
    {
     "data": {
      "text/plain": [
       "1183"
      ]
     },
     "execution_count": 27,
     "metadata": {},
     "output_type": "execute_result"
    }
   ],
   "source": [
    "tfidf_arr = tfidfX.toarray()\n",
    "tfidf_pairs = [np.concatenate([tfidf_arr[x],tfidf_arr[x+1]]) for x in range(0,len(tfidf_arr),2)]\n",
    "\n",
    "tf_train, tf_test, tf_labels_train, tf_labels_test = train_test_split(tfidf_pairs, labels)\n",
    "len(tf_train)"
   ]
  },
  {
   "cell_type": "code",
   "execution_count": 28,
   "metadata": {},
   "outputs": [
    {
     "data": {
      "text/plain": [
       "0.6050632911392405"
      ]
     },
     "execution_count": 28,
     "metadata": {},
     "output_type": "execute_result"
    }
   ],
   "source": [
    "#64% accuracy on tfidf on raw text.\n",
    "logreg.fit(tf_train, tf_labels_train)\n",
    "logreg.score(tf_test, tf_labels_test)"
   ]
  },
  {
   "cell_type": "code",
   "execution_count": 29,
   "metadata": {},
   "outputs": [
    {
     "data": {
      "text/plain": [
       "0.5037974683544304"
      ]
     },
     "execution_count": 29,
     "metadata": {},
     "output_type": "execute_result"
    }
   ],
   "source": [
    "#BAD result!\n",
    "logreg.fit(np.hstack([tf_train,cvec_train]), tf_labels_train)\n",
    "logreg.score(np.hstack([tf_test,cvec_test]), tf_labels_test)"
   ]
  },
  {
   "cell_type": "code",
   "execution_count": 30,
   "metadata": {},
   "outputs": [],
   "source": [
    "tfsym_arr = tfidfX.toarray()\n",
    "tfsym_pairs = [np.concatenate([tfsym_arr[x],tfsym_arr[x+1]]) for x in range(0,len(tfsym_arr),2)]\n",
    "\n",
    "tfsym_train, tfsym_test, tfsym_labels_train, tfsym_labels_test = train_test_split(tfsym_pairs, labels)"
   ]
  },
  {
   "cell_type": "code",
   "execution_count": 31,
   "metadata": {},
   "outputs": [
    {
     "data": {
      "text/plain": [
       "0.5848101265822785"
      ]
     },
     "execution_count": 31,
     "metadata": {},
     "output_type": "execute_result"
    }
   ],
   "source": [
    "#61% \n",
    "logreg.fit(tfsym_train, tfsym_labels_train)\n",
    "logreg.score(tfsym_test, tfsym_labels_test)"
   ]
  },
  {
   "cell_type": "code",
   "execution_count": 32,
   "metadata": {},
   "outputs": [],
   "source": [
    "lix_vec = np.array([compute_lix(x) for x in corpus])\n",
    "yule_vec = np.array([yules_k(x) for x in corpus])"
   ]
  },
  {
   "cell_type": "code",
   "execution_count": 33,
   "metadata": {},
   "outputs": [
    {
     "ename": "ValueError",
     "evalue": "At least one array required as input",
     "output_type": "error",
     "traceback": [
      "\u001b[1;31m---------------------------------------------------------------------------\u001b[0m",
      "\u001b[1;31mValueError\u001b[0m                                Traceback (most recent call last)",
      "\u001b[1;32m<ipython-input-33-b4e1833cd668>\u001b[0m in \u001b[0;36m<module>\u001b[1;34m\u001b[0m\n\u001b[0;32m      3\u001b[0m \u001b[1;33m\u001b[0m\u001b[0m\n\u001b[0;32m      4\u001b[0m \u001b[0myule_pairs\u001b[0m \u001b[1;33m=\u001b[0m \u001b[1;33m[\u001b[0m\u001b[0mnp\u001b[0m\u001b[1;33m.\u001b[0m\u001b[0mhstack\u001b[0m\u001b[1;33m(\u001b[0m\u001b[1;33m[\u001b[0m\u001b[0myule_vec\u001b[0m\u001b[1;33m[\u001b[0m\u001b[0mx\u001b[0m\u001b[1;33m]\u001b[0m\u001b[1;33m,\u001b[0m\u001b[0myule_vec\u001b[0m\u001b[1;33m[\u001b[0m\u001b[0mx\u001b[0m\u001b[1;33m+\u001b[0m\u001b[1;36m1\u001b[0m\u001b[1;33m]\u001b[0m\u001b[1;33m]\u001b[0m\u001b[1;33m)\u001b[0m \u001b[1;32mfor\u001b[0m \u001b[0mx\u001b[0m \u001b[1;32min\u001b[0m \u001b[0mrange\u001b[0m\u001b[1;33m(\u001b[0m\u001b[1;36m0\u001b[0m\u001b[1;33m,\u001b[0m\u001b[0mlen\u001b[0m\u001b[1;33m(\u001b[0m\u001b[0myule_vec\u001b[0m\u001b[1;33m)\u001b[0m\u001b[1;33m,\u001b[0m\u001b[1;36m2\u001b[0m\u001b[1;33m)\u001b[0m\u001b[1;33m]\u001b[0m\u001b[1;33m\u001b[0m\u001b[1;33m\u001b[0m\u001b[0m\n\u001b[1;32m----> 5\u001b[1;33m \u001b[0myule_train\u001b[0m\u001b[1;33m,\u001b[0m \u001b[0myule_test\u001b[0m\u001b[1;33m,\u001b[0m \u001b[0myule_labels_train\u001b[0m\u001b[1;33m,\u001b[0m \u001b[0myule_labels_test\u001b[0m \u001b[1;33m=\u001b[0m \u001b[0mtrain_test_split\u001b[0m\u001b[1;33m(\u001b[0m\u001b[1;33m)\u001b[0m\u001b[1;33m\u001b[0m\u001b[1;33m\u001b[0m\u001b[0m\n\u001b[0m",
      "\u001b[1;32mc:\\python37\\lib\\site-packages\\sklearn\\model_selection\\_split.py\u001b[0m in \u001b[0;36mtrain_test_split\u001b[1;34m(*arrays, **options)\u001b[0m\n\u001b[0;32m   2115\u001b[0m     \u001b[0mn_arrays\u001b[0m \u001b[1;33m=\u001b[0m \u001b[0mlen\u001b[0m\u001b[1;33m(\u001b[0m\u001b[0marrays\u001b[0m\u001b[1;33m)\u001b[0m\u001b[1;33m\u001b[0m\u001b[1;33m\u001b[0m\u001b[0m\n\u001b[0;32m   2116\u001b[0m     \u001b[1;32mif\u001b[0m \u001b[0mn_arrays\u001b[0m \u001b[1;33m==\u001b[0m \u001b[1;36m0\u001b[0m\u001b[1;33m:\u001b[0m\u001b[1;33m\u001b[0m\u001b[1;33m\u001b[0m\u001b[0m\n\u001b[1;32m-> 2117\u001b[1;33m         \u001b[1;32mraise\u001b[0m \u001b[0mValueError\u001b[0m\u001b[1;33m(\u001b[0m\u001b[1;34m\"At least one array required as input\"\u001b[0m\u001b[1;33m)\u001b[0m\u001b[1;33m\u001b[0m\u001b[1;33m\u001b[0m\u001b[0m\n\u001b[0m\u001b[0;32m   2118\u001b[0m     \u001b[0mtest_size\u001b[0m \u001b[1;33m=\u001b[0m \u001b[0moptions\u001b[0m\u001b[1;33m.\u001b[0m\u001b[0mpop\u001b[0m\u001b[1;33m(\u001b[0m\u001b[1;34m'test_size'\u001b[0m\u001b[1;33m,\u001b[0m \u001b[1;32mNone\u001b[0m\u001b[1;33m)\u001b[0m\u001b[1;33m\u001b[0m\u001b[1;33m\u001b[0m\u001b[0m\n\u001b[0;32m   2119\u001b[0m     \u001b[0mtrain_size\u001b[0m \u001b[1;33m=\u001b[0m \u001b[0moptions\u001b[0m\u001b[1;33m.\u001b[0m\u001b[0mpop\u001b[0m\u001b[1;33m(\u001b[0m\u001b[1;34m'train_size'\u001b[0m\u001b[1;33m,\u001b[0m \u001b[1;32mNone\u001b[0m\u001b[1;33m)\u001b[0m\u001b[1;33m\u001b[0m\u001b[1;33m\u001b[0m\u001b[0m\n",
      "\u001b[1;31mValueError\u001b[0m: At least one array required as input"
     ]
    }
   ],
   "source": [
    "lix_pairs = [np.hstack([lix_vec[x],lix_vec[x+1]]) for x in range(0,len(lix_vec),2)]\n",
    "lix_train, lix_test, lix_labels_train, lix_labels_test = train_test_split(lix_pairs, labels)\n",
    "\n",
    "yule_pairs = [np.hstack([yule_vec[x],yule_vec[x+1]]) for x in range(0,len(yule_vec),2)]\n",
    "yule_train, yule_test, yule_labels_train, yule_labels_test = train_test_split()"
   ]
  },
  {
   "cell_type": "code",
   "execution_count": null,
   "metadata": {},
   "outputs": [],
   "source": [
    "logreg.fit(lix_train, lix_labels_train)\n",
    "logreg.score(lix_test, lix_labels_test)"
   ]
  },
  {
   "cell_type": "code",
   "execution_count": 34,
   "metadata": {},
   "outputs": [],
   "source": [
    "def plot_pcs(pcs, target, labels, ctitle=\"\"):   \n",
    "    group1 = pcs[target==0]\n",
    "    group2 = pcs[target==1]\n",
    "    \n",
    "    plt.scatter(group1[:,0], group1[:,1], cmap='jet', label=labels[0], s=8)\n",
    "    plt.scatter(group2[:,0], group2[:,1], cmap='jet', label=labels[1], s=2)\n",
    "    \n",
    "    plt.xlabel(\"PC 1\")\n",
    "    plt.ylabel(\"PC 2\")\n",
    "    plt.legend(loc=\"best\")\n",
    "    plt.title(ctitle)"
   ]
  },
  {
   "cell_type": "code",
   "execution_count": 35,
   "metadata": {},
   "outputs": [
    {
     "data": {
      "image/png": "[encoded data removed]",
      "text/plain": [
       "<Figure size 432x288 with 1 Axes>"
      ]
     },
     "metadata": {
      "needs_background": "light"
     },
     "output_type": "display_data"
    }
   ],
   "source": [
    "pca = PCA(n_components=2)\n",
    "cx_arr = cX.toarray()\n",
    "cvec_pairs = [np.concatenate([cx_arr[x],cx_arr[x+1]]) for x in range(0,len(cx_arr),2)]\n",
    "\n",
    "pcs = pca.fit_transform(cvec_pairs)\n",
    "\n",
    "plot_pcs(pcs, np.array(labels), (\"same\", \"diff\"), ctitle=\"Word freq bad feature!\")"
   ]
  },
  {
   "cell_type": "code",
   "execution_count": 36,
   "metadata": {},
   "outputs": [
    {
     "data": {
      "image/png": "[encoded data removed]",
      "text/plain": [
       "<Figure size 432x288 with 1 Axes>"
      ]
     },
     "metadata": {
      "needs_background": "light"
     },
     "output_type": "display_data"
    }
   ],
   "source": [
    "tf_pcs = pca.fit_transform(tfidf_pairs)\n",
    "plot_pcs(tf_pcs, np.array(labels), (\"same\", \"diff\"), ctitle=\"TF-IDF also bad!\")"
   ]
  },
  {
   "cell_type": "code",
   "execution_count": 37,
   "metadata": {},
   "outputs": [
    {
     "data": {
      "image/png": "[encoded data removed]",
      "text/plain": [
       "<Figure size 432x288 with 1 Axes>"
      ]
     },
     "metadata": {
      "needs_background": "light"
     },
     "output_type": "display_data"
    }
   ],
   "source": [
    "sym_countvec = CountVectorizer()\n",
    "sym_arr = sym_countvec.fit_transform(symbols).toarray()\n",
    "\n",
    "sym_pairs = [np.concatenate([sym_arr[x],sym_arr[x+1]]) for x in range(0,len(sym_arr),2)]\n",
    "\n",
    "sym_pcs = pca.fit_transform(sym_pairs)\n",
    "plot_pcs(sklearn.preprocessing.normalize(sym_pcs), np.array(labels), (\"same\", \"diff\"), ctitle=\"Count vec symbols\")"
   ]
  },
  {
   "cell_type": "code",
   "execution_count": 38,
   "metadata": {},
   "outputs": [
    {
     "data": {
      "image/png": "[encoded data removed]",
      "text/plain": [
       "<Figure size 432x288 with 1 Axes>"
      ]
     },
     "metadata": {
      "needs_background": "light"
     },
     "output_type": "display_data"
    }
   ],
   "source": [
    "sym_countvec = TfidfVectorizer()\n",
    "sym_arr = sym_countvec.fit_transform(symbols).toarray()\n",
    "\n",
    "sym_pairs = [np.concatenate([sym_arr[x],sym_arr[x+1]]) for x in range(0,len(sym_arr),2)]\n",
    "\n",
    "sym_pcs = pca.fit_transform(sym_pairs)\n",
    "plot_pcs(sym_pcs, np.array(labels), (\"same\", \"diff\"), ctitle=\"tfidf symbols\")"
   ]
  },
  {
   "cell_type": "code",
   "execution_count": 39,
   "metadata": {},
   "outputs": [
    {
     "name": "stderr",
     "output_type": "stream",
     "text": [
      "c:\\python37\\lib\\site-packages\\ipykernel_launcher.py:18: RuntimeWarning: invalid value encountered in true_divide\n"
     ]
    },
    {
     "ename": "ValueError",
     "evalue": "Expected 2D array, got 1D array instead:\narray=[nan  1.  1. ...  1.  1.  1.].\nReshape your data either using array.reshape(-1, 1) if your data has a single feature or array.reshape(1, -1) if it contains a single sample.",
     "output_type": "error",
     "traceback": [
      "\u001b[1;31m---------------------------------------------------------------------------\u001b[0m",
      "\u001b[1;31mValueError\u001b[0m                                Traceback (most recent call last)",
      "\u001b[1;32m<ipython-input-39-510940d25876>\u001b[0m in \u001b[0;36m<module>\u001b[1;34m\u001b[0m\n\u001b[0;32m      2\u001b[0m                          \u001b[1;31m#Hmmm\u001b[0m\u001b[1;33m\u001b[0m\u001b[1;33m\u001b[0m\u001b[1;33m\u001b[0m\u001b[0m\n\u001b[0;32m      3\u001b[0m \u001b[1;33m\u001b[0m\u001b[0m\n\u001b[1;32m----> 4\u001b[1;33m \u001b[0msym_pcs\u001b[0m \u001b[1;33m=\u001b[0m \u001b[0mpca\u001b[0m\u001b[1;33m.\u001b[0m\u001b[0mfit_transform\u001b[0m\u001b[1;33m(\u001b[0m\u001b[0mcos_sym_pairs\u001b[0m\u001b[1;33m)\u001b[0m\u001b[1;33m\u001b[0m\u001b[1;33m\u001b[0m\u001b[0m\n\u001b[0m\u001b[0;32m      5\u001b[0m \u001b[1;31m#plot_pcs(sym_pcs, np.array(labels), (\"same\", \"diff\"), ctitle=\"cosine tfidf symbols\")\u001b[0m\u001b[1;33m\u001b[0m\u001b[1;33m\u001b[0m\u001b[1;33m\u001b[0m\u001b[0m\n",
      "\u001b[1;32mc:\\python37\\lib\\site-packages\\sklearn\\decomposition\\_pca.py\u001b[0m in \u001b[0;36mfit_transform\u001b[1;34m(self, X, y)\u001b[0m\n\u001b[0;32m    374\u001b[0m         \u001b[0mC\u001b[0m\u001b[1;33m-\u001b[0m\u001b[0mordered\u001b[0m \u001b[0marray\u001b[0m\u001b[1;33m,\u001b[0m \u001b[0muse\u001b[0m \u001b[1;34m'np.ascontiguousarray'\u001b[0m\u001b[1;33m.\u001b[0m\u001b[1;33m\u001b[0m\u001b[1;33m\u001b[0m\u001b[0m\n\u001b[0;32m    375\u001b[0m         \"\"\"\n\u001b[1;32m--> 376\u001b[1;33m         \u001b[0mU\u001b[0m\u001b[1;33m,\u001b[0m \u001b[0mS\u001b[0m\u001b[1;33m,\u001b[0m \u001b[0mV\u001b[0m \u001b[1;33m=\u001b[0m \u001b[0mself\u001b[0m\u001b[1;33m.\u001b[0m\u001b[0m_fit\u001b[0m\u001b[1;33m(\u001b[0m\u001b[0mX\u001b[0m\u001b[1;33m)\u001b[0m\u001b[1;33m\u001b[0m\u001b[1;33m\u001b[0m\u001b[0m\n\u001b[0m\u001b[0;32m    377\u001b[0m         \u001b[0mU\u001b[0m \u001b[1;33m=\u001b[0m \u001b[0mU\u001b[0m\u001b[1;33m[\u001b[0m\u001b[1;33m:\u001b[0m\u001b[1;33m,\u001b[0m \u001b[1;33m:\u001b[0m\u001b[0mself\u001b[0m\u001b[1;33m.\u001b[0m\u001b[0mn_components_\u001b[0m\u001b[1;33m]\u001b[0m\u001b[1;33m\u001b[0m\u001b[1;33m\u001b[0m\u001b[0m\n\u001b[0;32m    378\u001b[0m \u001b[1;33m\u001b[0m\u001b[0m\n",
      "\u001b[1;32mc:\\python37\\lib\\site-packages\\sklearn\\decomposition\\_pca.py\u001b[0m in \u001b[0;36m_fit\u001b[1;34m(self, X)\u001b[0m\n\u001b[0;32m    396\u001b[0m \u001b[1;33m\u001b[0m\u001b[0m\n\u001b[0;32m    397\u001b[0m         X = self._validate_data(X, dtype=[np.float64, np.float32],\n\u001b[1;32m--> 398\u001b[1;33m                                 ensure_2d=True, copy=self.copy)\n\u001b[0m\u001b[0;32m    399\u001b[0m \u001b[1;33m\u001b[0m\u001b[0m\n\u001b[0;32m    400\u001b[0m         \u001b[1;31m# Handle n_components==None\u001b[0m\u001b[1;33m\u001b[0m\u001b[1;33m\u001b[0m\u001b[1;33m\u001b[0m\u001b[0m\n",
      "\u001b[1;32mc:\\python37\\lib\\site-packages\\sklearn\\base.py\u001b[0m in \u001b[0;36m_validate_data\u001b[1;34m(self, X, y, reset, validate_separately, **check_params)\u001b[0m\n\u001b[0;32m    418\u001b[0m                     \u001b[1;34mf\"requires y to be passed, but the target y is None.\"\u001b[0m\u001b[1;33m\u001b[0m\u001b[1;33m\u001b[0m\u001b[0m\n\u001b[0;32m    419\u001b[0m                 )\n\u001b[1;32m--> 420\u001b[1;33m             \u001b[0mX\u001b[0m \u001b[1;33m=\u001b[0m \u001b[0mcheck_array\u001b[0m\u001b[1;33m(\u001b[0m\u001b[0mX\u001b[0m\u001b[1;33m,\u001b[0m \u001b[1;33m**\u001b[0m\u001b[0mcheck_params\u001b[0m\u001b[1;33m)\u001b[0m\u001b[1;33m\u001b[0m\u001b[1;33m\u001b[0m\u001b[0m\n\u001b[0m\u001b[0;32m    421\u001b[0m             \u001b[0mout\u001b[0m \u001b[1;33m=\u001b[0m \u001b[0mX\u001b[0m\u001b[1;33m\u001b[0m\u001b[1;33m\u001b[0m\u001b[0m\n\u001b[0;32m    422\u001b[0m         \u001b[1;32melse\u001b[0m\u001b[1;33m:\u001b[0m\u001b[1;33m\u001b[0m\u001b[1;33m\u001b[0m\u001b[0m\n",
      "\u001b[1;32mc:\\python37\\lib\\site-packages\\sklearn\\utils\\validation.py\u001b[0m in \u001b[0;36minner_f\u001b[1;34m(*args, **kwargs)\u001b[0m\n\u001b[0;32m     70\u001b[0m                           FutureWarning)\n\u001b[0;32m     71\u001b[0m         \u001b[0mkwargs\u001b[0m\u001b[1;33m.\u001b[0m\u001b[0mupdate\u001b[0m\u001b[1;33m(\u001b[0m\u001b[1;33m{\u001b[0m\u001b[0mk\u001b[0m\u001b[1;33m:\u001b[0m \u001b[0marg\u001b[0m \u001b[1;32mfor\u001b[0m \u001b[0mk\u001b[0m\u001b[1;33m,\u001b[0m \u001b[0marg\u001b[0m \u001b[1;32min\u001b[0m \u001b[0mzip\u001b[0m\u001b[1;33m(\u001b[0m\u001b[0msig\u001b[0m\u001b[1;33m.\u001b[0m\u001b[0mparameters\u001b[0m\u001b[1;33m,\u001b[0m \u001b[0margs\u001b[0m\u001b[1;33m)\u001b[0m\u001b[1;33m}\u001b[0m\u001b[1;33m)\u001b[0m\u001b[1;33m\u001b[0m\u001b[1;33m\u001b[0m\u001b[0m\n\u001b[1;32m---> 72\u001b[1;33m         \u001b[1;32mreturn\u001b[0m \u001b[0mf\u001b[0m\u001b[1;33m(\u001b[0m\u001b[1;33m**\u001b[0m\u001b[0mkwargs\u001b[0m\u001b[1;33m)\u001b[0m\u001b[1;33m\u001b[0m\u001b[1;33m\u001b[0m\u001b[0m\n\u001b[0m\u001b[0;32m     73\u001b[0m     \u001b[1;32mreturn\u001b[0m \u001b[0minner_f\u001b[0m\u001b[1;33m\u001b[0m\u001b[1;33m\u001b[0m\u001b[0m\n\u001b[0;32m     74\u001b[0m \u001b[1;33m\u001b[0m\u001b[0m\n",
      "\u001b[1;32mc:\\python37\\lib\\site-packages\\sklearn\\utils\\validation.py\u001b[0m in \u001b[0;36mcheck_array\u001b[1;34m(array, accept_sparse, accept_large_sparse, dtype, order, copy, force_all_finite, ensure_2d, allow_nd, ensure_min_samples, ensure_min_features, estimator)\u001b[0m\n\u001b[0;32m    621\u001b[0m                     \u001b[1;34m\"Reshape your data either using array.reshape(-1, 1) if \"\u001b[0m\u001b[1;33m\u001b[0m\u001b[1;33m\u001b[0m\u001b[0m\n\u001b[0;32m    622\u001b[0m                     \u001b[1;34m\"your data has a single feature or array.reshape(1, -1) \"\u001b[0m\u001b[1;33m\u001b[0m\u001b[1;33m\u001b[0m\u001b[0m\n\u001b[1;32m--> 623\u001b[1;33m                     \"if it contains a single sample.\".format(array))\n\u001b[0m\u001b[0;32m    624\u001b[0m \u001b[1;33m\u001b[0m\u001b[0m\n\u001b[0;32m    625\u001b[0m         \u001b[1;31m# in the future np.flexible dtypes will be handled like object dtypes\u001b[0m\u001b[1;33m\u001b[0m\u001b[1;33m\u001b[0m\u001b[1;33m\u001b[0m\u001b[0m\n",
      "\u001b[1;31mValueError\u001b[0m: Expected 2D array, got 1D array instead:\narray=[nan  1.  1. ...  1.  1.  1.].\nReshape your data either using array.reshape(-1, 1) if your data has a single feature or array.reshape(1, -1) if it contains a single sample."
     ]
    }
   ],
   "source": [
    "cos_sym_pairs = np.array([cosine_sim(x,x+1) for x in range(0,len(sym_arr),2)])\n",
    "                         #Hmmm\n",
    "\n",
    "sym_pcs = pca.fit_transform(cos_sym_pairs)\n",
    "#plot_pcs(sym_pcs, np.array(labels), (\"same\", \"diff\"), ctitle=\"cosine tfidf symbols\")"
   ]
  },
  {
   "cell_type": "code",
   "execution_count": 40,
   "metadata": {},
   "outputs": [
    {
     "data": {
      "text/plain": [
       "(array([ 7, 10, 17,  7, 13,  3,  3, 10, 20,  2,  7,  4,  3, 13, 16, 17, 27,\n",
       "         6, 13, 20,  1, 22, 20, 15, 14, 12,  7, 14, 15,  7,  1,  9, 15, 21,\n",
       "         5,  2, 14,  3, 23,  8, 11,  1,  6, 12,  9,  8,  8,  3,  9, 14,  1,\n",
       "         8,  0,  2,  3, 14,  6,  2,  3,  8,  2,  2, 12,  9, 15,  2, 17, 17,\n",
       "         4, 14,  8,  7, 23, 11,  3, 18, 23,  6,  7, 23, 24, 34, 10,  2,  2,\n",
       "        12,  2,  5, 11, 14,  4, 12, 16, 17, 12,  2,  3,  3,  2,  6, 24, 26,\n",
       "         1,  3, 23,  2,  3,  3,  2, 26,  2,  5, 23,  3,  7, 15, 29, 22, 25,\n",
       "        11,  4, 10,  8,  4, 33,  5,  7,  7,  8, 20, 27, 15, 18, 13, 10, 12,\n",
       "         4, 13, 17, 11,  2, 13,  9,  2,  5, 11, 20, 29, 19,  0,  3,  2,  4,\n",
       "        14,  1,  9,  3,  8,  0,  2,  8,  5, 19,  8, 17, 21, 17, 16, 21, 26,\n",
       "         9,  5, 32,  6, 13, 15,  3, 17, 29,  0,  4, 10,  1,  7,  3,  2,  4,\n",
       "        13,  5,  0,  1, 14,  3, 24, 10,  1,  3,  2, 18,  1,  4,  2, 18,  5,\n",
       "        25,  2,  5,  4,  2, 25,  8,  1,  8,  5,  6, 10,  2,  1,  2, 10, 19,\n",
       "         0,  1,  9, 21,  4,  6,  3,  2,  4, 10, 11,  9, 10,  6,  1,  9, 13,\n",
       "         3,  2,  7,  9, 32,  5, 11, 23, 32, 11,  3,  9, 14,  4, 15, 11,  1,\n",
       "        16,  4,  1,  2,  5,  2,  5,  9,  9,  4,  7, 10, 23, 23, 27, 11, 30,\n",
       "        25, 17, 20, 14,  8, 13,  7, 21, 33, 10,  1,  1,  1, 21, 11,  4, 12,\n",
       "        12, 26,  6, 18, 22,  7,  3, 16, 22,  1, 17,  2,  1, 10,  3, 14,  4,\n",
       "         3,  2,  3, 10, 12, 12,  1,  5,  2, 10,  3,  6,  5, 12,  0,  7,  1,\n",
       "         1,  1,  7,  6, 35,  4,  8,  3,  2, 14,  1,  8,  2,  1, 25, 11, 19,\n",
       "         9,  5,  1, 29,  6,  7, 23,  5, 19,  1,  3, 25,  2,  5, 11,  7,  9,\n",
       "         4, 20,  3,  3,  7, 17, 35, 22,  6, 28, 17, 25, 15, 29, 24, 28,  1,\n",
       "         3,  2, 11, 21,  5,  7, 17,  7,  6]),\n",
       " array([2, 3, 3, ..., 3, 6, 6]))"
      ]
     },
     "execution_count": 40,
     "metadata": {},
     "output_type": "execute_result"
    }
   ],
   "source": [
    "def remove_symbols(text):\n",
    "    sentences = re.split('[\\.+|!|?]', text)\n",
    "    sentences = [re.sub(r\"[^\\w]+\", ' ', x) for x in sentences if len(x.strip()) != 0]\n",
    "    return ' '.join(sentences)\n",
    "\n",
    "def get_sent_word_length(text):\n",
    "    #Function, which removes symbols and count words in sentence\n",
    "    #Output: length of each sentence & length of each word\n",
    "    sentences = re.split('[\\.+|!|?]', text)\n",
    "    sentences = [re.sub(r\"[^\\w]+\", ' ', x) for x in sentences if len(x.strip()) != 0]\n",
    "    word_sentences = [nltk.word_tokenize(x) for x in sentences]\n",
    "    sentence_lengths = np.array([len(x) for x in word_sentences])\n",
    "    word_lengths = np.array([len(s) for x in word_sentences for s in x])\n",
    "    return sentence_lengths, word_lengths\n",
    "\n",
    "get_sent_word_length(corpus[0])"
   ]
  },
  {
   "cell_type": "markdown",
   "metadata": {},
   "source": [
    "http://norvig.com/spell-correct.html - Spelling correction"
   ]
  },
  {
   "cell_type": "code",
   "execution_count": 41,
   "metadata": {},
   "outputs": [
    {
     "data": {
      "text/plain": [
       "['peace',\n",
       " 'fastball',\n",
       " 'herface',\n",
       " 'cancer',\n",
       " 'cooked',\n",
       " 'all',\n",
       " 'capulets',\n",
       " 'tad',\n",
       " 'sis',\n",
       " 'encompass',\n",
       " 'rank',\n",
       " 'ooh',\n",
       " 'default',\n",
       " 'pandora',\n",
       " 'voiceover',\n",
       " 'la',\n",
       " 'nonstop',\n",
       " 'dizzy',\n",
       " 'he',\n",
       " 'mortys',\n",
       " 'alive',\n",
       " 'threatened',\n",
       " 'ranks']"
      ]
     },
     "execution_count": 41,
     "metadata": {},
     "output_type": "execute_result"
    }
   ],
   "source": [
    "from spellchecker import SpellChecker\n",
    "\n",
    "def misspelled_words(text):\n",
    "    #Library for spell checking\n",
    "    spell = SpellChecker()\n",
    "    text = remove_symbols(text)\n",
    "    #Regex for finding digits\n",
    "    _digits = re.compile('\\d')\n",
    "\n",
    "    #List of misspelled words\n",
    "    misspelled = spell.unknown(text.split())\n",
    "    #Remove words, that start with capital letter (Likely names)\n",
    "    no_names = [x for x in misspelled if x.title() not in text]\n",
    "    #Remove words that contain digits (7th)\n",
    "    no_digits = [x for x in no_names if not bool(_digits.search(x))]\n",
    "    \n",
    "    #Find corrections for misspelled words - if word is more than a single character.\n",
    "    corrections = [spell.correction(x) for x in no_digits if len(x)>1]\n",
    "    #Remove corrections, if they have no correction (likely misclassified spelling mistake)\n",
    "    remove_no_correction = [x for x in corrections if x not in misspelled]\n",
    "    return remove_no_correction\n",
    "\n",
    "misspelled_words(corpus[1])"
   ]
  },
  {
   "cell_type": "code",
   "execution_count": 42,
   "metadata": {},
   "outputs": [],
   "source": [
    "import scipy\n",
    "def show_me_pca(vector, labels, is_pairs=False, title=\"\"):\n",
    "    '''Plot PCA for the two classes. Input is one long vector/list, it creates pairs itself.\n",
    "    If you already created pairs, use is_pairs=True\n",
    "    Example: if vector is distance between pairs, do not set is_pairs to True. \n",
    "    (as it is one vector describing both documents.)\n",
    "    \n",
    "    labels is simply a vector with the labels, which will be used to colour the scatter plot.'''\n",
    "    \n",
    "    #Convert labels to np.array (might be a list.)\n",
    "    labels = np.array(labels)\n",
    "    \n",
    "    #Join pairs into one, long vector if necessary. \n",
    "    if not is_pairs:\n",
    "        vector = [np.hstack([vector[x],vector[x+1]]) for x in range(0,len(vector),2)]  \n",
    "    \n",
    "    #Get that PCA - Use SVD if vector is sparse.\n",
    "    if scipy.sparse.issparse(vector):\n",
    "        pca = TruncatedSVD(n_components=2)\n",
    "    else:\n",
    "        pca = PCA(n_components=2)\n",
    "    pcs = pca.fit_transform(vector)\n",
    "    \n",
    "    #Printing pcs shape - remember they might be halved, due to pairing. \n",
    "    print(pcs.shape)\n",
    "    \n",
    "    #Group PC's into two, according to label indices. \n",
    "    group1 = pcs[labels==0]\n",
    "    group2 = pcs[labels==1]\n",
    "    \n",
    "    #Plot that shit!\n",
    "    plt.scatter(group1[:,0], group1[:,1], s=5)\n",
    "    plt.scatter(group2[:,0], group2[:,1], s=5)\n",
    "    plt.title(title)"
   ]
  },
  {
   "cell_type": "code",
   "execution_count": 43,
   "metadata": {},
   "outputs": [
    {
     "data": {
      "image/png": "[encoded data removed]",
      "text/plain": [
       "<Figure size 432x288 with 1 Axes>"
      ]
     },
     "metadata": {
      "needs_background": "light"
     },
     "output_type": "display_data"
    }
   ],
   "source": [
    "#Pretty slow\n",
    "k_list = []\n",
    "i_list = []\n",
    "lix_list = []\n",
    "unique_list = []\n",
    "avg_sent_len_list = []\n",
    "avg_word_len_list = []\n",
    "num_of_spelling_mistakes = []\n",
    "num_of_symbol_sequences = []\n",
    "for i, text in enumerate(corpus[:50]):\n",
    "    k_list.append(get_yules(text)[0])\n",
    "    i_list.append(get_yules(text)[1])\n",
    "    lix_list.append(compute_lix(text))\n",
    "    unique_list.append(get_num_unique_words(text)/10)\n",
    "    sent_word = get_sent_word_length(text)\n",
    "    avg_sent_len_list.append(np.mean(sent_word[0]))\n",
    "    avg_word_len_list.append(np.mean(sent_word[1]))\n",
    "    num_of_spelling_mistakes.append(len(misspelled_words(text)))\n",
    "    num_of_symbol_sequences.append(len([x for x in symbols[i].split() if len(x)>3]))\n",
    "    \n",
    "\n",
    "plt.plot(k_list, label=\"Yule's K\")\n",
    "plt.plot(i_list, label=\"Yule's I\")\n",
    "plt.plot(lix_list, label=\"Lix count\")\n",
    "plt.plot(unique_list, label=\"Unique words / 10\")\n",
    "plt.plot(avg_sent_len_list, label=\"Avg. sentence length\")\n",
    "plt.plot(avg_word_len_list, label=\"Avg. word length\")\n",
    "plt.plot(num_of_spelling_mistakes, label=\"Number of spelling mistakes\")\n",
    "plt.plot(num_of_symbol_sequences, label=\"Number of symbols sequnces (3)\")\n",
    "plt.title(\"Different complexity measures\")\n",
    "plt.legend(bbox_to_anchor=(1,1), loc=\"upper left\")\n",
    "plt.rcParams[\"figure.figsize\"] = (20, 10)\n",
    "plt.show()"
   ]
  },
  {
   "cell_type": "code",
   "execution_count": 44,
   "metadata": {},
   "outputs": [
    {
     "name": "stdout",
     "output_type": "stream",
     "text": [
      "(50, 2)\n"
     ]
    },
    {
     "data": {
      "image/png": "[encoded data removed]",
      "text/plain": [
       "<Figure size 432x360 with 1 Axes>"
      ]
     },
     "metadata": {
      "needs_background": "light"
     },
     "output_type": "display_data"
    }
   ],
   "source": [
    "#Create one numpy array from of lists of features\n",
    "def create_feature_vectors(lists):\n",
    "    return np.vstack(lists).T\n",
    "\n",
    "feat_vec1 = create_feature_vectors([k_list, i_list, lix_list, unique_list, avg_sent_len_list, \n",
    "                                    avg_word_len_list,num_of_spelling_mistakes, num_of_symbol_sequences])\n",
    "\n",
    "plt.rcParams[\"figure.figsize\"] = (6, 5)\n",
    "show_me_pca(feat_vec1, labels[:50], is_pairs=True, title=\"Complexity Features, concatenated\")"
   ]
  },
  {
   "cell_type": "code",
   "execution_count": 45,
   "metadata": {},
   "outputs": [
    {
     "name": "stdout",
     "output_type": "stream",
     "text": [
      "(25, 2)\n"
     ]
    },
    {
     "data": {
      "image/png": "[encoded data removed]",
      "text/plain": [
       "<Figure size 432x360 with 1 Axes>"
      ]
     },
     "metadata": {
      "needs_background": "light"
     },
     "output_type": "display_data"
    }
   ],
   "source": [
    "feat_vec2 = [feat_vec1[x]-feat_vec1[x+1] for x in range(0,len(k_list),2)]\n",
    "show_me_pca(feat_vec1, labels[:25], title=\"Complexity Features, substracted\")"
   ]
  },
  {
   "cell_type": "code",
   "execution_count": 46,
   "metadata": {},
   "outputs": [],
   "source": [
    "tokens = nltk.word_tokenize(corpus[0])\n",
    "pos_tags = nltk.pos_tag(tokens)\n",
    "pos_bigrams = nltk.bigrams([x[1] for x in pos_tags])\n",
    "\n",
    "\n",
    "pos_bigrams = list(pos_bigrams)\n",
    "pos_fdist = nltk.FreqDist(pos_bigrams)\n",
    "count_vec = CountVectorizer()\n",
    "X = count_vec.fit_transform([' '.join(x) for x in pos_bigrams])"
   ]
  },
  {
   "cell_type": "code",
   "execution_count": 47,
   "metadata": {},
   "outputs": [
    {
     "data": {
      "text/plain": [
       "(4810, 29)"
      ]
     },
     "execution_count": 47,
     "metadata": {},
     "output_type": "execute_result"
    }
   ],
   "source": [
    "X.toarray().shape"
   ]
  },
  {
   "cell_type": "code",
   "execution_count": null,
   "metadata": {},
   "outputs": [],
   "source": [
    "' '.join(pos_bigrams[0])"
   ]
  },
  {
   "cell_type": "code",
   "execution_count": null,
   "metadata": {},
   "outputs": [],
   "source": []
  }
 ],
 "metadata": {
  "kernelspec": {
   "display_name": "Python 3",
   "language": "python",
   "name": "python3"
  },
  "language_info": {
   "codemirror_mode": {
    "name": "ipython",
    "version": 3
   },
   "file_extension": ".py",
   "mimetype": "text/x-python",
   "name": "python",
   "nbconvert_exporter": "python",
   "pygments_lexer": "ipython3",
   "version": "3.7.4"
  }
 },
 "nbformat": 4,
 "nbformat_minor": 4
}
