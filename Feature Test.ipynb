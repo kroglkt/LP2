{
 "cells": [
  {
   "cell_type": "code",
   "execution_count": 259,
   "metadata": {},
   "outputs": [],
   "source": [
    "import json\n",
    "import numpy as np\n",
    "import random\n",
    "from tqdm import tqdm\n",
    "import nltk\n",
    "from sklearn.model_selection import train_test_split\n",
    "from sklearn.feature_extraction.text import TfidfVectorizer, CountVectorizer\n",
    "from sklearn.linear_model import LogisticRegression\n",
    "import pandas as pd\n",
    "from sklearn.decomposition import PCA, TruncatedSVD\n",
    "import re\n",
    "import matplotlib.pyplot as plt\n",
    "import sklearn\n",
    "import scipy\n",
    "from sklearn.preprocessing import normalize"
   ]
  },
  {
   "cell_type": "code",
   "execution_count": 260,
   "metadata": {},
   "outputs": [],
   "source": [
    "def rand_emot():\n",
    "    e = [\"(o_o)\",\":-)\",\":P\",\":D\",\"x)\",\"ᓚᘏᗢ\",\"╯°□°）╯︵ ┻━┻\",\":)\",\n",
    "         \"*<:-)\",\"^_^\",\"(⌐■_■)\",\"¯\\_(ツ)_/¯\", \"(T_T)\",\":o\",\"OwO\",\n",
    "        \"( ͡❛ ͜ʖ ͡❛)\",\"(̶◉͛‿◉̶)\",\"( ≖.≖)\",\"(ㆆ_ㆆ)\",\"ʕ•́ᴥ•̀ʔっ\",\"( ◡́.◡̀)\",\"(^◡^ )\"]\n",
    "    return random.choice(e)\n",
    "\n",
    "def load_files():\n",
    "    text_pairs = [] #Would be nice to have as np.array\n",
    "    labels = []\n",
    "    fandom = []\n",
    "    \n",
    "    pair_id = []\n",
    "    true_id = []\n",
    "    \n",
    "    #Load truth JSON\n",
    "    for line in open('data/modified/train_truth.jsonl'):\n",
    "        d = json.loads(line.strip())\n",
    "        labels.append(int(d['same']))\n",
    "        true_id.append(d['id'])\n",
    "\n",
    "    #Load actual fanfic.\n",
    "    print(\"loading fanfic...\",rand_emot())\n",
    "    for line in tqdm(open('data/modified/train_pair.jsonl')):\n",
    "        d = json.loads(line.strip())\n",
    "        text_pairs.append(d['pair'])\n",
    "        fandom.append(d['fandoms'])\n",
    "        pair_id.append(d['id'])\n",
    "\n",
    "    print(\"done loading\",rand_emot())\n",
    "    \n",
    "    return text_pairs, labels, fandom, pair_id, true_id"
   ]
  },
  {
   "cell_type": "code",
   "execution_count": 261,
   "metadata": {},
   "outputs": [
    {
     "name": "stderr",
     "output_type": "stream",
     "text": [
      "635it [00:00, 3137.80it/s]"
     ]
    },
    {
     "name": "stdout",
     "output_type": "stream",
     "text": [
      "loading fanfic... ( ≖.≖)\n"
     ]
    },
    {
     "name": "stderr",
     "output_type": "stream",
     "text": [
      "1578it [00:00, 2979.71it/s]"
     ]
    },
    {
     "name": "stdout",
     "output_type": "stream",
     "text": [
      "done loading (⌐■_■)\n"
     ]
    },
    {
     "name": "stderr",
     "output_type": "stream",
     "text": [
      "\n"
     ]
    }
   ],
   "source": [
    "text_pairs, labels, fandom, pair_id, true_id = load_files()"
   ]
  },
  {
   "cell_type": "code",
   "execution_count": 262,
   "metadata": {},
   "outputs": [],
   "source": [
    "def create_corpus(text_pairs):\n",
    "    '''input all text pairs to create a corpus'''\n",
    "    corpus = [x[i] for x in text_pairs for i in range(len(x))]\n",
    "    return corpus"
   ]
  },
  {
   "cell_type": "code",
   "execution_count": 274,
   "metadata": {},
   "outputs": [],
   "source": [
    "corpus = create_corpus(text_pairs)[:1000] #Only take the 100 first texts - to make it faster\n",
    "labels = labels[:500]"
   ]
  },
  {
   "cell_type": "markdown",
   "metadata": {},
   "source": [
    "## PCA Function"
   ]
  },
  {
   "cell_type": "code",
   "execution_count": 264,
   "metadata": {},
   "outputs": [],
   "source": [
    "def show_me_pca(vector, labels, is_pairs=False, title=\"\"):\n",
    "    '''Plot PCA for the two classes. Input is one long vector/list, it creates pairs itself.\n",
    "    If you already created pairs, use is_pairs=True\n",
    "    Example: if vector is distance between pairs, do not set is_pairs to True. \n",
    "    (as it is one vector describing both documents.)\n",
    "    \n",
    "    labels is simply a vector with the labels, which will be used to colour the scatter plot.'''\n",
    "    \n",
    "    #Convert labels to np.array (might be a list.)\n",
    "    labels = np.array(labels)\n",
    "    \n",
    "    #Join pairs into one, long vector if necessary. \n",
    "    if not is_pairs:\n",
    "        if scipy.sparse.issparse(vector):\n",
    "            vector = [np.hstack([vector[x],vector[x+1]]) for x in range(0,vector.shape[0],2)]  \n",
    "        else:\n",
    "            vector = [np.hstack([vector[x],vector[x+1]]) for x in range(0,len(vector),2)]  \n",
    "    \n",
    "    #Get that PCA - Use SVD if vector is sparse.\n",
    "    if scipy.sparse.issparse(vector):\n",
    "        \n",
    "        pca = TruncatedSVD(n_components=2)\n",
    "    else:\n",
    "        pca = PCA(n_components=2)\n",
    "    pcs = pca.fit_transform(vector)\n",
    "    \n",
    "    #Printing pcs shape - remember they might be halved, due to pairing. \n",
    "    print(pcs.shape)\n",
    "    \n",
    "    #Group PC's into two, according to label indices. \n",
    "    group1 = pcs[labels==0]\n",
    "    group2 = pcs[labels==1]\n",
    "    \n",
    "    #Plot that shit!\n",
    "    plt.scatter(group1[:,0], group1[:,1], s=5)\n",
    "    plt.scatter(group2[:,0], group2[:,1], s=5)\n",
    "    plt.title(title)"
   ]
  },
  {
   "cell_type": "markdown",
   "metadata": {},
   "source": [
    "## Function Word Feature Exploration"
   ]
  },
  {
   "cell_type": "code",
   "execution_count": 302,
   "metadata": {},
   "outputs": [],
   "source": [
    "#Isolate function words\n",
    "\n",
    "with open('data/function_words_clean.txt', \"r\") as fw:\n",
    "    func_words = fw.read().split()\n",
    "\n",
    "def isolate_fw(corpus, f_words): #data must be json file - input must be path to file \n",
    "    fw_in_data = []\n",
    "\n",
    "    for text in tqdm(corpus):\n",
    "        function_words = []\n",
    "        words = text.split() #split fanfic into words in list\n",
    "        for word in words: \n",
    "            if word in f_words: #if the word is a function word\n",
    "                function_words.append(word)\n",
    "                \n",
    "        stringed_function_words = \" \".join(function_words)\n",
    "        \n",
    "        #append all function words as one long string in a list\n",
    "        fw_in_data.append(stringed_function_words) #fw_in_data is a list with strings\n",
    "        #each list contains a string of all function words for each pair\n",
    "        #should it be a string for each pair?\n",
    "        \n",
    "    return fw_in_data"
   ]
  },
  {
   "cell_type": "code",
   "execution_count": 303,
   "metadata": {},
   "outputs": [
    {
     "name": "stderr",
     "output_type": "stream",
     "text": [
      "100%|██████████████████████████████████████████████████████████████████████████████| 1000/1000 [00:14<00:00, 70.94it/s]\n"
     ]
    }
   ],
   "source": [
    "function_words = isolate_fw(corpus, func_words)\n",
    "fw_tokens = [nltk.word_tokenize(x) for x in function_words]\n",
    "unigram_freqdists = [nltk.FreqDist(x) for x in fw_tokens]\n",
    "bigrams = [nltk.bigrams(x) for x in fw_tokens]\n",
    "bigram_freqdists = [nltk.FreqDist(x) for x in bigrams]"
   ]
  },
  {
   "cell_type": "code",
   "execution_count": 304,
   "metadata": {},
   "outputs": [],
   "source": [
    "def get_mat_from_fdists(fdists):\n",
    "    '''This function compiles a list of frequency distributions and create a matrix with feature vectors.\n",
    "    Each row is a feature vector. Should would with all typed of dictionaries, actually.'''\n",
    "    all_keys = list(set([item for sublist in fdists for item in sublist]))\n",
    "    matrix = np.zeros((len(fdists),len(all_keys)))\n",
    "    \n",
    "    for i, fd in enumerate(tqdm(fdists)):\n",
    "        for j, key in enumerate(all_keys):\n",
    "            matrix[i,j] = fd[key]\n",
    "    \n",
    "    return matrix"
   ]
  },
  {
   "cell_type": "code",
   "execution_count": 315,
   "metadata": {},
   "outputs": [
    {
     "name": "stderr",
     "output_type": "stream",
     "text": [
      "100%|████████████████████████████████████████████████████████████████████████████| 1000/1000 [00:00<00:00, 8569.62it/s]\n"
     ]
    }
   ],
   "source": [
    "v1 = normalize(get_mat_from_fdists(unigram_freqdists))\n",
    "#v2 = get_mat_from_fdists(bigram_freqdists)"
   ]
  },
  {
   "cell_type": "code",
   "execution_count": 322,
   "metadata": {},
   "outputs": [
    {
     "name": "stdout",
     "output_type": "stream",
     "text": [
      "(500, 2)\n"
     ]
    },
    {
     "data": {
      "image/png": "[encoded data removed]",
      "text/plain": [
       "<Figure size 432x288 with 1 Axes>"
      ]
     },
     "metadata": {
      "needs_background": "light"
     },
     "output_type": "display_data"
    }
   ],
   "source": [
    "compile_pairs = [v1[x]*v1[x+1] for x in range(0,v1.shape[0],2)]\n",
    "show_me_pca(compile_pairs, labels, is_pairs=True)"
   ]
  },
  {
   "cell_type": "code",
   "execution_count": null,
   "metadata": {},
   "outputs": [],
   "source": []
  }
 ],
 "metadata": {
  "kernelspec": {
   "display_name": "Python 3",
   "language": "python",
   "name": "python3"
  },
  "language_info": {
   "codemirror_mode": {
    "name": "ipython",
    "version": 3
   },
   "file_extension": ".py",
   "mimetype": "text/x-python",
   "name": "python",
   "nbconvert_exporter": "python",
   "pygments_lexer": "ipython3",
   "version": "3.7.4"
  }
 },
 "nbformat": 4,
 "nbformat_minor": 4
}
